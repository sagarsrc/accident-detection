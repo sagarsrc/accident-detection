{
 "cells": [
  {
   "cell_type": "markdown",
   "id": "6189ebf4-c1e5-468b-900c-e720bfd25715",
   "metadata": {},
   "source": [
    "# Aim\n",
    "\n",
    "1. Clean and Featurize data"
   ]
  },
  {
   "cell_type": "code",
   "execution_count": 17,
   "id": "da30f7d0-8183-41ad-ba39-95f68a535de6",
   "metadata": {},
   "outputs": [],
   "source": [
    "import os\n",
    "from datetime import datetime\n",
    "\n",
    "import numpy as np\n",
    "import pandas as pd\n",
    "from fuzzywuzzy import fuzz\n",
    "from nltk.corpus import stopwords\n",
    "from pandarallel import pandarallel\n",
    "\n",
    "# from gensim.corpora import Dictionary\n",
    "# from gensim.models import TfidfModel\n",
    "# from gensim.utils import simple_preprocess\n",
    "# from sklearn.feature_extraction.text import TfidfVectorizer\n",
    "from tqdm import tqdm"
   ]
  },
  {
   "cell_type": "code",
   "execution_count": 2,
   "id": "41cb1130-688b-42ef-ae8d-b470f1e9839f",
   "metadata": {},
   "outputs": [],
   "source": [
    "DATA_ROOT = \"../data\"\n",
    "\n",
    "# os.makedirs(f\"{DATA_ROOT}/train/features\")"
   ]
  },
  {
   "cell_type": "code",
   "execution_count": 3,
   "id": "e7c0504f-de16-46d7-8c81-286ed34d1f3e",
   "metadata": {},
   "outputs": [],
   "source": [
    "df_train = pd.read_pickle(f\"{DATA_ROOT}/train/raw/data.pkl\")\n",
    "df_test = pd.read_pickle(f\"{DATA_ROOT}/test/raw/data.pkl\")"
   ]
  },
  {
   "cell_type": "code",
   "execution_count": 4,
   "id": "20e0c5d6-4fff-4575-a61b-c561e8d50dd5",
   "metadata": {},
   "outputs": [
    {
     "data": {
      "text/html": [
       "<div>\n",
       "<style scoped>\n",
       "    .dataframe tbody tr th:only-of-type {\n",
       "        vertical-align: middle;\n",
       "    }\n",
       "\n",
       "    .dataframe tbody tr th {\n",
       "        vertical-align: top;\n",
       "    }\n",
       "\n",
       "    .dataframe thead th {\n",
       "        text-align: right;\n",
       "    }\n",
       "</style>\n",
       "<table border=\"1\" class=\"dataframe\">\n",
       "  <thead>\n",
       "    <tr style=\"text-align: right;\">\n",
       "      <th></th>\n",
       "      <th>ID</th>\n",
       "      <th>Source</th>\n",
       "      <th>TMC</th>\n",
       "      <th>Start_Time</th>\n",
       "      <th>Distance(mi)</th>\n",
       "      <th>Description</th>\n",
       "      <th>Side</th>\n",
       "      <th>City</th>\n",
       "      <th>County</th>\n",
       "      <th>State</th>\n",
       "      <th>...</th>\n",
       "      <th>Station</th>\n",
       "      <th>Stop</th>\n",
       "      <th>Traffic_Calming</th>\n",
       "      <th>Traffic_Signal</th>\n",
       "      <th>Turning_Loop</th>\n",
       "      <th>Sunrise_Sunset</th>\n",
       "      <th>Civil_Twilight</th>\n",
       "      <th>Nautical_Twilight</th>\n",
       "      <th>Astronomical_Twilight</th>\n",
       "      <th>Severity</th>\n",
       "    </tr>\n",
       "  </thead>\n",
       "  <tbody>\n",
       "    <tr>\n",
       "      <th>0</th>\n",
       "      <td>A-2478859</td>\n",
       "      <td>Bing</td>\n",
       "      <td>0.0</td>\n",
       "      <td>2016-02-08 00:37:08</td>\n",
       "      <td>3.23</td>\n",
       "      <td>Between Sawmill Rd/Exit 20 and OH-315/Olentang...</td>\n",
       "      <td>R</td>\n",
       "      <td>Dublin</td>\n",
       "      <td>Franklin</td>\n",
       "      <td>OH</td>\n",
       "      <td>...</td>\n",
       "      <td>False</td>\n",
       "      <td>False</td>\n",
       "      <td>False</td>\n",
       "      <td>False</td>\n",
       "      <td>False</td>\n",
       "      <td>Night</td>\n",
       "      <td>Night</td>\n",
       "      <td>Night</td>\n",
       "      <td>Night</td>\n",
       "      <td>3</td>\n",
       "    </tr>\n",
       "    <tr>\n",
       "      <th>1</th>\n",
       "      <td>A-1</td>\n",
       "      <td>MapQuest</td>\n",
       "      <td>201.0</td>\n",
       "      <td>2016-02-08 05:46:00</td>\n",
       "      <td>0.01</td>\n",
       "      <td>Right lane blocked due to accident on I-70 Eas...</td>\n",
       "      <td>R</td>\n",
       "      <td>Dayton</td>\n",
       "      <td>Montgomery</td>\n",
       "      <td>OH</td>\n",
       "      <td>...</td>\n",
       "      <td>False</td>\n",
       "      <td>False</td>\n",
       "      <td>False</td>\n",
       "      <td>False</td>\n",
       "      <td>False</td>\n",
       "      <td>Night</td>\n",
       "      <td>Night</td>\n",
       "      <td>Night</td>\n",
       "      <td>Night</td>\n",
       "      <td>3</td>\n",
       "    </tr>\n",
       "  </tbody>\n",
       "</table>\n",
       "<p>2 rows × 38 columns</p>\n",
       "</div>"
      ],
      "text/plain": [
       "          ID    Source    TMC          Start_Time  Distance(mi)  \\\n",
       "0  A-2478859      Bing    0.0 2016-02-08 00:37:08          3.23   \n",
       "1        A-1  MapQuest  201.0 2016-02-08 05:46:00          0.01   \n",
       "\n",
       "                                         Description Side    City      County  \\\n",
       "0  Between Sawmill Rd/Exit 20 and OH-315/Olentang...    R  Dublin    Franklin   \n",
       "1  Right lane blocked due to accident on I-70 Eas...    R  Dayton  Montgomery   \n",
       "\n",
       "  State  ... Station   Stop Traffic_Calming  Traffic_Signal  Turning_Loop  \\\n",
       "0    OH  ...   False  False           False           False         False   \n",
       "1    OH  ...   False  False           False           False         False   \n",
       "\n",
       "   Sunrise_Sunset  Civil_Twilight Nautical_Twilight  Astronomical_Twilight  \\\n",
       "0           Night           Night             Night                  Night   \n",
       "1           Night           Night             Night                  Night   \n",
       "\n",
       "  Severity  \n",
       "0        3  \n",
       "1        3  \n",
       "\n",
       "[2 rows x 38 columns]"
      ]
     },
     "execution_count": 4,
     "metadata": {},
     "output_type": "execute_result"
    }
   ],
   "source": [
    "df_train.head(2)"
   ]
  },
  {
   "cell_type": "code",
   "execution_count": 5,
   "id": "be34c36f-56cf-4000-83bc-c5252a75ef69",
   "metadata": {},
   "outputs": [
    {
     "data": {
      "text/html": [
       "<div>\n",
       "<style scoped>\n",
       "    .dataframe tbody tr th:only-of-type {\n",
       "        vertical-align: middle;\n",
       "    }\n",
       "\n",
       "    .dataframe tbody tr th {\n",
       "        vertical-align: top;\n",
       "    }\n",
       "\n",
       "    .dataframe thead th {\n",
       "        text-align: right;\n",
       "    }\n",
       "</style>\n",
       "<table border=\"1\" class=\"dataframe\">\n",
       "  <thead>\n",
       "    <tr style=\"text-align: right;\">\n",
       "      <th></th>\n",
       "      <th>ID</th>\n",
       "      <th>Source</th>\n",
       "      <th>TMC</th>\n",
       "      <th>Start_Time</th>\n",
       "      <th>Distance(mi)</th>\n",
       "      <th>Description</th>\n",
       "      <th>Side</th>\n",
       "      <th>City</th>\n",
       "      <th>County</th>\n",
       "      <th>State</th>\n",
       "      <th>...</th>\n",
       "      <th>Station</th>\n",
       "      <th>Stop</th>\n",
       "      <th>Traffic_Calming</th>\n",
       "      <th>Traffic_Signal</th>\n",
       "      <th>Turning_Loop</th>\n",
       "      <th>Sunrise_Sunset</th>\n",
       "      <th>Civil_Twilight</th>\n",
       "      <th>Nautical_Twilight</th>\n",
       "      <th>Astronomical_Twilight</th>\n",
       "      <th>Severity</th>\n",
       "    </tr>\n",
       "  </thead>\n",
       "  <tbody>\n",
       "    <tr>\n",
       "      <th>0</th>\n",
       "      <td>A-3017746</td>\n",
       "      <td>Bing</td>\n",
       "      <td>0.0</td>\n",
       "      <td>2020-01-01 00:01:00</td>\n",
       "      <td>0.0</td>\n",
       "      <td>At Hampshire Rd/Exit 41 - Accident.</td>\n",
       "      <td>R</td>\n",
       "      <td>Westlake Village</td>\n",
       "      <td>Ventura</td>\n",
       "      <td>CA</td>\n",
       "      <td>...</td>\n",
       "      <td>False</td>\n",
       "      <td>False</td>\n",
       "      <td>False</td>\n",
       "      <td>False</td>\n",
       "      <td>False</td>\n",
       "      <td>Night</td>\n",
       "      <td>Night</td>\n",
       "      <td>Night</td>\n",
       "      <td>Night</td>\n",
       "      <td>2</td>\n",
       "    </tr>\n",
       "    <tr>\n",
       "      <th>1</th>\n",
       "      <td>A-3017745</td>\n",
       "      <td>Bing</td>\n",
       "      <td>0.0</td>\n",
       "      <td>2020-01-01 00:02:00</td>\n",
       "      <td>0.0</td>\n",
       "      <td>At Sheep Creek Rd - Accident.</td>\n",
       "      <td>L</td>\n",
       "      <td>Phelan</td>\n",
       "      <td>San Bernardino</td>\n",
       "      <td>CA</td>\n",
       "      <td>...</td>\n",
       "      <td>False</td>\n",
       "      <td>False</td>\n",
       "      <td>False</td>\n",
       "      <td>True</td>\n",
       "      <td>False</td>\n",
       "      <td>Night</td>\n",
       "      <td>Night</td>\n",
       "      <td>Night</td>\n",
       "      <td>Night</td>\n",
       "      <td>2</td>\n",
       "    </tr>\n",
       "  </tbody>\n",
       "</table>\n",
       "<p>2 rows × 38 columns</p>\n",
       "</div>"
      ],
      "text/plain": [
       "          ID Source  TMC          Start_Time  Distance(mi)  \\\n",
       "0  A-3017746   Bing  0.0 2020-01-01 00:01:00           0.0   \n",
       "1  A-3017745   Bing  0.0 2020-01-01 00:02:00           0.0   \n",
       "\n",
       "                           Description Side              City          County  \\\n",
       "0  At Hampshire Rd/Exit 41 - Accident.    R  Westlake Village         Ventura   \n",
       "1        At Sheep Creek Rd - Accident.    L            Phelan  San Bernardino   \n",
       "\n",
       "  State  ... Station   Stop Traffic_Calming  Traffic_Signal  Turning_Loop  \\\n",
       "0    CA  ...   False  False           False           False         False   \n",
       "1    CA  ...   False  False           False            True         False   \n",
       "\n",
       "   Sunrise_Sunset  Civil_Twilight Nautical_Twilight  Astronomical_Twilight  \\\n",
       "0           Night           Night             Night                  Night   \n",
       "1           Night           Night             Night                  Night   \n",
       "\n",
       "  Severity  \n",
       "0        2  \n",
       "1        2  \n",
       "\n",
       "[2 rows x 38 columns]"
      ]
     },
     "execution_count": 5,
     "metadata": {},
     "output_type": "execute_result"
    }
   ],
   "source": [
    "df_test.head(2)"
   ]
  },
  {
   "cell_type": "code",
   "execution_count": 6,
   "id": "f53163c9-26ad-45d5-88f0-c180f521ee7a",
   "metadata": {},
   "outputs": [
    {
     "data": {
      "text/plain": [
       "Index(['ID', 'Source', 'TMC', 'Start_Time', 'Distance(mi)', 'Description',\n",
       "       'Side', 'City', 'County', 'State', 'Zipcode', 'Timezone',\n",
       "       'Airport_Code', 'Temperature(F)', 'Humidity(%)', 'Pressure(in)',\n",
       "       'Visibility(mi)', 'Wind_Direction', 'Wind_Speed(mph)',\n",
       "       'Weather_Condition', 'Amenity', 'Bump', 'Crossing', 'Give_Way',\n",
       "       'Junction', 'No_Exit', 'Railway', 'Roundabout', 'Station', 'Stop',\n",
       "       'Traffic_Calming', 'Traffic_Signal', 'Turning_Loop', 'Sunrise_Sunset',\n",
       "       'Civil_Twilight', 'Nautical_Twilight', 'Astronomical_Twilight',\n",
       "       'Severity'],\n",
       "      dtype='object')"
      ]
     },
     "execution_count": 6,
     "metadata": {},
     "output_type": "execute_result"
    }
   ],
   "source": [
    "df_train.columns"
   ]
  },
  {
   "cell_type": "markdown",
   "id": "5720c367-6b92-4699-8be8-9fbc2d260baf",
   "metadata": {},
   "source": [
    "## Cleaning : `Wind_Direction`"
   ]
  },
  {
   "cell_type": "code",
   "execution_count": 7,
   "id": "57f2d9ee-27e3-43bf-b0b1-b7880a22a157",
   "metadata": {},
   "outputs": [
    {
     "data": {
      "text/plain": [
       "array(['SW', 'Calm', 'SSW', 'WSW', 'WNW', 'NW', 'West', 'NNW', 'NNE',\n",
       "       'South', 'W', 'North', 'Variable', 'SSE', 'SE', 'ESE', 'none',\n",
       "       'East', 'NE', 'ENE', 'E', 'CALM', 'S', 'VAR', 'N'], dtype=object)"
      ]
     },
     "execution_count": 7,
     "metadata": {},
     "output_type": "execute_result"
    }
   ],
   "source": [
    "df_train[\"Wind_Direction\"].unique()"
   ]
  },
  {
   "cell_type": "markdown",
   "id": "dfb84e93-f089-4e16-895f-49d357d046c8",
   "metadata": {},
   "source": [
    "1. convert to upper case\n",
    "1. replace VAR with variable"
   ]
  },
  {
   "cell_type": "code",
   "execution_count": 8,
   "id": "d089c698-b7a3-4abe-aa4e-be7d7f113e68",
   "metadata": {},
   "outputs": [],
   "source": [
    "def clean_wind_direction(df):\n",
    "    df[\"Wind_Direction\"] = df[\"Wind_Direction\"].str.upper()\n",
    "    df[\"Wind_Direction\"] = df[\"Wind_Direction\"].apply(\n",
    "        lambda x: \"variable\" if x == \"VAR\" else x\n",
    "    )\n",
    "\n",
    "    return df\n",
    "\n",
    "\n",
    "df_train = clean_wind_direction(df_train)\n",
    "df_test = clean_wind_direction(df_test)"
   ]
  },
  {
   "cell_type": "code",
   "execution_count": 9,
   "id": "ba7a9a64-3d30-4b26-b064-42ac34d9b56e",
   "metadata": {},
   "outputs": [
    {
     "name": "stdout",
     "output_type": "stream",
     "text": [
      "['CALM', 'E', 'EAST', 'ENE', 'ESE', 'N', 'NE', 'NNE', 'NNW', 'NONE', 'NORTH', 'NW', 'S', 'SE', 'SOUTH', 'SSE', 'SSW', 'SW', 'VARIABLE', 'W', 'WEST', 'WNW', 'WSW', 'variable']\n"
     ]
    }
   ],
   "source": [
    "print(sorted(df_train[\"Wind_Direction\"].unique()))"
   ]
  },
  {
   "cell_type": "code",
   "execution_count": 10,
   "id": "51b32cc8-e2c2-4530-8e30-febb11ba38f1",
   "metadata": {},
   "outputs": [
    {
     "name": "stdout",
     "output_type": "stream",
     "text": [
      "['CALM', 'E', 'ENE', 'ESE', 'N', 'NE', 'NNE', 'NNW', 'NONE', 'NW', 'S', 'SE', 'SSE', 'SSW', 'SW', 'W', 'WNW', 'WSW', 'variable']\n"
     ]
    }
   ],
   "source": [
    "print(sorted(df_test[\"Wind_Direction\"].unique()))"
   ]
  },
  {
   "cell_type": "markdown",
   "id": "dd71f6dd-e8c0-427b-be8d-e854ca15815e",
   "metadata": {},
   "source": [
    "## Cleaning : `Description`"
   ]
  },
  {
   "cell_type": "code",
   "execution_count": 18,
   "id": "839f1e0e-4e44-444d-8353-09b514be148c",
   "metadata": {},
   "outputs": [],
   "source": [
    "import html\n",
    "import re\n",
    "import string\n",
    "import unicodedata\n",
    "\n",
    "from bs4 import BeautifulSoup\n",
    "\n",
    "\n",
    "def rm_numbers(x):\n",
    "    x = re.sub(r\"[0-9]+\", \"\", x)\n",
    "    return x\n",
    "\n",
    "\n",
    "def rm_html(x):\n",
    "    x = html.unescape(x)\n",
    "    x = BeautifulSoup(x).get_text()\n",
    "    return x\n",
    "\n",
    "\n",
    "def rm_url(x):\n",
    "    x = re.sub(\"http*\\S+\", \" \", x)\n",
    "    return x\n",
    "\n",
    "\n",
    "def rm_multiple_dots(x):\n",
    "    x = re.sub(r\"\\.+\", \". \", x)\n",
    "    x = re.sub(\"\\।+\", \". \", x)\n",
    "    return x\n",
    "\n",
    "\n",
    "def rm_unicode(x):\n",
    "    x = unicodedata.normalize(\"NFKD\", x)\n",
    "    return x\n",
    "\n",
    "\n",
    "def rm_punctuation(x):\n",
    "    x = re.sub(\"[%s]\" % re.escape(string.punctuation.replace(\".\", \"\")), \" \", x)\n",
    "    return x\n",
    "\n",
    "\n",
    "def rm_spaces(x):\n",
    "    x = re.sub(\" +\", \" \", x)\n",
    "    return x\n",
    "\n",
    "\n",
    "def rm_word(x, word):\n",
    "    x = x.replace(word, \"\")\n",
    "    return x\n",
    "\n",
    "\n",
    "def clean_text(input_string):\n",
    "    ss = input_string\n",
    "    ss = rm_html(ss)\n",
    "    ss = rm_url(ss)\n",
    "    ss = rm_punctuation(ss)\n",
    "    ss = rm_multiple_dots(ss)\n",
    "    ss = rm_unicode(ss)\n",
    "    ss = rm_spaces(ss)\n",
    "    # ss = rm_numbers(ss)\n",
    "    ss = rm_word(ss, \"\\n\")\n",
    "    ss = rm_word(ss, \"\\t\")\n",
    "    ss = ss.strip()\n",
    "\n",
    "    return ss"
   ]
  },
  {
   "cell_type": "code",
   "execution_count": 20,
   "id": "b72c8537-9a6c-4c7d-9584-fb524993302b",
   "metadata": {},
   "outputs": [],
   "source": [
    "pandarallel.initialize(verbose=True,)\n",
    "df_train[\"Description\"] = df_train[\"Description\"].parallel_apply(\n",
    "    lambda x: clean_text(x)\n",
    ")"
   ]
  },
  {
   "cell_type": "code",
   "execution_count": 26,
   "id": "8f7961b3-c03e-4a25-90c1-e196e656e58e",
   "metadata": {},
   "outputs": [
    {
     "data": {
      "text/plain": [
       "array(['Accident on US 101 Oregon Coast Hwy near Cedar St.',\n",
       "       'Accident on Bingle Rd at Houston Rosslyn Rd.',\n",
       "       'Accident on Six Forks Rd at Lead Mine Rd.',\n",
       "       'Right hand shoulder blocked due to accident on I 210 Eastbound before Exit 19 CA 2.',\n",
       "       'Between VA 619 Exit 150 and VA 234 Exit 152 Accident.'],\n",
       "      dtype=object)"
      ]
     },
     "execution_count": 26,
     "metadata": {},
     "output_type": "execute_result"
    }
   ],
   "source": [
    "df_train[\"Description\"].sample(5).values"
   ]
  },
  {
   "cell_type": "code",
   "execution_count": 24,
   "id": "8e476100-3fa1-40cb-8407-f96928b02722",
   "metadata": {},
   "outputs": [],
   "source": [
    "pandarallel.initialize(verbose=True,)\n",
    "df_test[\"Description\"] = df_test[\"Description\"].parallel_apply(lambda x: clean_text(x))"
   ]
  },
  {
   "cell_type": "code",
   "execution_count": 27,
   "id": "037ffdb4-3b76-45c1-8ba5-e7de1b69adb1",
   "metadata": {},
   "outputs": [
    {
     "data": {
      "text/plain": [
       "array(['At Old Hiway Accident.',\n",
       "       'Lane blocked due to accident on I 385 Northbound near Exit 34 Butler Rd.',\n",
       "       'Accident on MN 36 Westbound at CR 35 Hadley Ave.',\n",
       "       'At Southwood Plantation Rd Accident.',\n",
       "       'Right lane blocked due to accident on Sam Houston Tlwy Eastbound at I 45 Gulf Fwy Exit 32.'],\n",
       "      dtype=object)"
      ]
     },
     "execution_count": 27,
     "metadata": {},
     "output_type": "execute_result"
    }
   ],
   "source": [
    "df_test[\"Description\"].sample(5).values"
   ]
  },
  {
   "cell_type": "markdown",
   "id": "b4e797a8-95b8-4abd-9bbd-77334533d3f9",
   "metadata": {},
   "source": [
    "## Featurizing : `Description`\n",
    "\n",
    "1. Get K keywords\n",
    "1. create a binary vector of dimension K\n",
    "1. if presence of word_x mark that dimension 1\n",
    "\n",
    "Why this feature?\n",
    "\n",
    "1. this will allow us to capture important words describing an accident\n",
    "1. these words inturn might help in identifying severity"
   ]
  },
  {
   "cell_type": "markdown",
   "id": "c574a5df-8bf7-475d-8cd8-53b6d239f5be",
   "metadata": {},
   "source": [
    "- [YAKE github](https://github.com/LIAAD/yake)\n",
    "- [Reference - Key word extractor](https://towardsdatascience.com/keyword-extraction-process-in-python-with-natural-language-processing-nlp-d769a9069d5c)\n",
    "\n",
    "YAKE is a lightweight, unsupervised automatic keyword extraction method that relies on statistical text features extracted from individual documents to identify the most relevant keywords in the text."
   ]
  },
  {
   "cell_type": "code",
   "execution_count": 13,
   "id": "9e356ea0-d27c-4c8e-8562-2b1ece0b6ac3",
   "metadata": {},
   "outputs": [],
   "source": [
    "import yake\n",
    "\n",
    "kw_extractor = yake.KeywordExtractor()\n",
    "text = \".\".join(\n",
    "    df_train[\"Description\"].sample(n=100_000).tolist()\n",
    ")  # extracting from a sample as compute intensive process\n",
    "language = \"en\"\n",
    "max_ngram_size = 1\n",
    "deduplication_threshold = 0.1\n",
    "numOfKeywords = 1000\n",
    "custom_kw_extractor = yake.KeywordExtractor(\n",
    "    lan=language,\n",
    "    n=max_ngram_size,\n",
    "    dedupLim=deduplication_threshold,\n",
    "    top=numOfKeywords,\n",
    "    features=None,\n",
    "    stopwords=stopwords.words(\"english\"),\n",
    ")\n",
    "keywords = custom_kw_extractor.extract_keywords(text)"
   ]
  },
  {
   "cell_type": "code",
   "execution_count": 28,
   "id": "b168e869-b367-46e2-9fb7-1db8c957dd88",
   "metadata": {},
   "outputs": [
    {
     "data": {
      "text/plain": [
       "[('Accident', 6.169566081677733e-09),\n",
       " ('Northbound', 1.3069501235051463e-07),\n",
       " ('Hwy', 2.738028950102289e-06),\n",
       " ('ramp', 4.8401705088886265e-06),\n",
       " ('slow', 8.777147725501163e-06),\n",
       " ('Trl', 0.00014915096836162105),\n",
       " ('Mopac', 0.001457774067552258),\n",
       " ('Okeechobee', 0.0015743939528227214),\n",
       " ('Brookshire', 0.0016599371751449834),\n",
       " ('Huntington', 0.002962632417734576),\n",
       " ('NYS', 0.005783750908517111),\n",
       " ('Fuqua', 0.009709526119156922),\n",
       " ('Middlefield', 0.055070995136181314),\n",
       " ('JFK', 0.07611004069260154),\n",
       " ('Cedarhurst', 0.1031640040545067),\n",
       " ('57-56', 0.12423963791402771),\n",
       " ('PGBT.', 0.3325493080742511),\n",
       " ('Rhinecliff', 0.6395068253572433),\n",
       " ('Chavaneaux', 0.6552093622826601),\n",
       " ('Gibsonburg', 0.677368534171853)]"
      ]
     },
     "execution_count": 28,
     "metadata": {},
     "output_type": "execute_result"
    }
   ],
   "source": [
    "# The lower the score, the more relevant the keyword is.\n",
    "keywords"
   ]
  },
  {
   "cell_type": "code",
   "execution_count": 30,
   "id": "39eb558d-d30b-468b-946c-3a08f3eca85d",
   "metadata": {},
   "outputs": [],
   "source": [
    "pd.to_pickle(\n",
    "    keywords, f\"{DATA_ROOT}/train/keywords.pkl\",\n",
    ")"
   ]
  },
  {
   "cell_type": "code",
   "execution_count": 34,
   "id": "ca2964bc-906b-433e-91b2-7ccbffd883e1",
   "metadata": {},
   "outputs": [],
   "source": [
    "# using top 15 words\n",
    "keywords_list = [i[0] for i in keywords[:15]]"
   ]
  },
  {
   "cell_type": "code",
   "execution_count": 35,
   "id": "6e971d29-cc12-4878-b441-8ce604036dbc",
   "metadata": {},
   "outputs": [
    {
     "data": {
      "text/plain": [
       "['Accident',\n",
       " 'Northbound',\n",
       " 'Hwy',\n",
       " 'ramp',\n",
       " 'slow',\n",
       " 'Trl',\n",
       " 'Mopac',\n",
       " 'Okeechobee',\n",
       " 'Brookshire',\n",
       " 'Huntington',\n",
       " 'NYS',\n",
       " 'Fuqua',\n",
       " 'Middlefield',\n",
       " 'JFK',\n",
       " 'Cedarhurst']"
      ]
     },
     "execution_count": 35,
     "metadata": {},
     "output_type": "execute_result"
    }
   ],
   "source": [
    "keywords_list"
   ]
  },
  {
   "cell_type": "code",
   "execution_count": 45,
   "id": "48e2f612-901f-4cd9-90c8-7d19ea918007",
   "metadata": {},
   "outputs": [
    {
     "data": {
      "text/plain": [
       "100"
      ]
     },
     "execution_count": 45,
     "metadata": {},
     "output_type": "execute_result"
    }
   ],
   "source": [
    "fuzz.partial_ratio(\"hello world 2\", \"hello world\")  # demo of partial_ratio"
   ]
  },
  {
   "cell_type": "code",
   "execution_count": 57,
   "id": "841bc459-1892-4353-a004-e9953442567b",
   "metadata": {},
   "outputs": [],
   "source": [
    "def get_kw_vec(x, kw_list):\n",
    "    vec = [fuzz.partial_ratio(i.lower(), x.lower()) for i in kw_list]\n",
    "    vec = np.array(vec)\n",
    "    vec = np.where(vec > 60, 1, 0).tolist()\n",
    "    return vec"
   ]
  },
  {
   "cell_type": "code",
   "execution_count": 58,
   "id": "3989e7c2-cea3-4a2e-8d06-5e31e3c3b309",
   "metadata": {},
   "outputs": [],
   "source": [
    "pandarallel.initialize(verbose=True,)\n",
    "df_train[\"kw_vec\"] = df_train[\"Description\"].parallel_apply(\n",
    "    lambda x: get_kw_vec(x, keywords_list)\n",
    ")"
   ]
  },
  {
   "cell_type": "code",
   "execution_count": 59,
   "id": "0f721f9b-73d8-4195-be01-3647c267f01a",
   "metadata": {},
   "outputs": [],
   "source": [
    "pandarallel.initialize(verbose=True,)\n",
    "df_test[\"kw_vec\"] = df_test[\"Description\"].parallel_apply(\n",
    "    lambda x: get_kw_vec(x, keywords_list)\n",
    ")"
   ]
  },
  {
   "cell_type": "code",
   "execution_count": 62,
   "id": "179072d3-4b91-4bf1-9c06-064518d81360",
   "metadata": {},
   "outputs": [
    {
     "data": {
      "text/plain": [
       "2428374    [1, 0, 0, 0, 0, 0, 0, 0, 0, 0, 0, 0, 0, 0, 0]\n",
       "209306     [1, 1, 1, 0, 0, 1, 0, 0, 0, 0, 1, 0, 0, 0, 0]\n",
       "849060     [1, 0, 0, 0, 0, 0, 0, 0, 0, 0, 0, 0, 0, 0, 0]\n",
       "70600      [1, 0, 0, 0, 0, 0, 0, 0, 0, 0, 0, 0, 0, 0, 0]\n",
       "1845646    [1, 1, 0, 1, 0, 0, 0, 0, 0, 0, 0, 0, 0, 0, 0]\n",
       "Name: kw_vec, dtype: object"
      ]
     },
     "execution_count": 62,
     "metadata": {},
     "output_type": "execute_result"
    }
   ],
   "source": [
    "df_train[\"kw_vec\"].sample(5).head()"
   ]
  },
  {
   "cell_type": "markdown",
   "id": "7d54f6e5-f1a4-4944-b069-aaab8ffe4ac2",
   "metadata": {},
   "source": [
    "## Featurizing : `Zipcode`\n",
    "\n"
   ]
  },
  {
   "cell_type": "markdown",
   "id": "d30541ae-633c-460a-9740-82db381e5b4d",
   "metadata": {},
   "source": [
    "[Reference encoding zipcode](https://stats.stackexchange.com/questions/94902/how-to-represent-geography-or-zip-code-in-machine-learning-model-or-recommender)\n",
    "- As we are using decision trees we do not need to use one hot encoding\n",
    "- Decision trees handle categorical variables\n",
    "\n",
    "Why breakdown zip code?\n",
    "- zip codes are hierarchical in nature\n",
    "- using first N digits of zipcode will give us some understanding of the region \n",
    "- using next N digits will give understanding of next sub regions\n",
    "- we also reduce the number of unique zipcodes this way\n",
    "- this will enable model to learn better"
   ]
  },
  {
   "cell_type": "code",
   "execution_count": 64,
   "id": "ecb07516-a738-4507-b1f8-ac120601beb8",
   "metadata": {},
   "outputs": [],
   "source": [
    "df_train[\"zip_02\"] = df_train[\"Zipcode\"].str[:2]\n",
    "df_test[\"zip_02\"] = df_test[\"Zipcode\"].str[:2]"
   ]
  },
  {
   "cell_type": "code",
   "execution_count": 65,
   "id": "722752fe-83f7-49a5-939e-7a3804547b3e",
   "metadata": {},
   "outputs": [],
   "source": [
    "df_train[\"zip_25\"] = df_train[\"Zipcode\"].str[2:5]\n",
    "df_test[\"zip_25\"] = df_test[\"Zipcode\"].str[2:5]"
   ]
  },
  {
   "cell_type": "markdown",
   "id": "225b1fa8-378c-4df9-90e8-c93f35dbf453",
   "metadata": {},
   "source": [
    "Zip codes are of varying length that could be one of the features\n",
    "\n",
    "`zip_len` could be one of the features\n"
   ]
  },
  {
   "cell_type": "code",
   "execution_count": 66,
   "id": "0d8fc456-e132-40ac-9983-93fd198df7f0",
   "metadata": {},
   "outputs": [],
   "source": [
    "df_train[\"zip_len\"] = df_train[\"Zipcode\"].apply(len)\n",
    "df_test[\"zip_len\"] = df_test[\"Zipcode\"].apply(len)"
   ]
  },
  {
   "cell_type": "markdown",
   "id": "dbc7291c-1137-432b-aa7a-15ae24122451",
   "metadata": {},
   "source": [
    "We can observe some compound zip codes like \n",
    "\n",
    "1. 43068-3402\n",
    "1. 93401-8325\n",
    "1. 60607-3612\n",
    "\n",
    "`is_compound` could be one of the boolean variables"
   ]
  },
  {
   "cell_type": "code",
   "execution_count": 67,
   "id": "cbafcd3b-8961-49ed-b98b-659f7711266f",
   "metadata": {},
   "outputs": [],
   "source": [
    "df_train[\"zip_is_compound\"] = df_train[\"Zipcode\"].apply(lambda x: \"-\" in x)\n",
    "df_test[\"zip_is_compound\"] = df_test[\"Zipcode\"].apply(lambda x: \"-\" in x)"
   ]
  },
  {
   "cell_type": "markdown",
   "id": "23bd53a3-64bb-48af-b0d4-d9691bb1f6b0",
   "metadata": {},
   "source": [
    "# Final features list"
   ]
  },
  {
   "cell_type": "code",
   "execution_count": 70,
   "id": "e8925022-2da0-4eaf-a1b2-c4db60b4f31f",
   "metadata": {},
   "outputs": [],
   "source": [
    "final_feature_list = [\n",
    "    \"ID\",  # will be removing this before preparing modelling data\n",
    "    \"Source\",\n",
    "    \"TMC\",\n",
    "    # \"Start_Time\", -> removing this as data is now sorted and split\n",
    "    \"Distance(mi)\",\n",
    "    # \"Description\", -> extracted features & removing this\n",
    "    \"Side\",\n",
    "    \"City\",\n",
    "    \"County\",\n",
    "    \"State\",\n",
    "    # \"Zipcode\", -> extracted features & removing this\n",
    "    \"Timezone\",\n",
    "    \"Airport_Code\",\n",
    "    \"Temperature(F)\",\n",
    "    \"Humidity(%)\",\n",
    "    \"Pressure(in)\",\n",
    "    \"Visibility(mi)\",\n",
    "    \"Wind_Direction\",\n",
    "    \"Wind_Speed(mph)\",\n",
    "    \"Weather_Condition\",\n",
    "    \"Amenity\",\n",
    "    \"Bump\",\n",
    "    \"Crossing\",\n",
    "    \"Give_Way\",\n",
    "    \"Junction\",\n",
    "    \"No_Exit\",\n",
    "    \"Railway\",\n",
    "    \"Roundabout\",\n",
    "    \"Station\",\n",
    "    \"Stop\",\n",
    "    \"Traffic_Calming\",\n",
    "    \"Traffic_Signal\",\n",
    "    \"Turning_Loop\",\n",
    "    \"Sunrise_Sunset\",\n",
    "    \"Civil_Twilight\",\n",
    "    \"Nautical_Twilight\",\n",
    "    \"Astronomical_Twilight\",\n",
    "    # engineered features\n",
    "    \"kw_vec\",\n",
    "    \"zip_02\",\n",
    "    \"zip_25\",\n",
    "    \"zip_len\",\n",
    "    \"zip_is_compound\",\n",
    "    # to predict\n",
    "    \"Severity\",\n",
    "]"
   ]
  },
  {
   "cell_type": "code",
   "execution_count": 71,
   "id": "813c862a-75c0-4905-8d9f-77508e5c01b3",
   "metadata": {},
   "outputs": [],
   "source": [
    "os.makedirs(f\"{DATA_ROOT}/train/featurized/\", exist_ok=True)\n",
    "os.makedirs(f\"{DATA_ROOT}/test/featurized/\", exist_ok=True)"
   ]
  },
  {
   "cell_type": "code",
   "execution_count": 73,
   "id": "553073b9-f73c-4fc2-915a-a977760de445",
   "metadata": {},
   "outputs": [],
   "source": [
    "df_train[final_feature_list].to_pickle(f\"{DATA_ROOT}/train/featurized/data.pkl\")\n",
    "df_test[final_feature_list].to_pickle(f\"{DATA_ROOT}/test/featurized/data.pkl\")"
   ]
  }
 ],
 "metadata": {
  "kernelspec": {
   "display_name": "Python 3",
   "language": "python",
   "name": "python3"
  },
  "language_info": {
   "codemirror_mode": {
    "name": "ipython",
    "version": 3
   },
   "file_extension": ".py",
   "mimetype": "text/x-python",
   "name": "python",
   "nbconvert_exporter": "python",
   "pygments_lexer": "ipython3",
   "version": "3.8.5"
  }
 },
 "nbformat": 4,
 "nbformat_minor": 5
}
