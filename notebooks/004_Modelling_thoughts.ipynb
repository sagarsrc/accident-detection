{
 "cells": [
  {
   "cell_type": "markdown",
   "id": "9eb7bfe9-3474-4ad4-a817-2636631a9556",
   "metadata": {},
   "source": [
    "# Initial Thoughts on Modelling"
   ]
  },
  {
   "cell_type": "markdown",
   "id": "2d269269-b9ee-4b00-a001-8d750edcd199",
   "metadata": {},
   "source": [
    "Based on the EDA, the nature of data and the nature of variable we need to predict. We can say following:\n",
    "\n",
    "1. Data has multiple factors on which severity can be determined on.\n",
    "1. Based on bivariate analysis we could see that each factor brings in some data separation.\n",
    "1. If we look at why accidents could happen then - some combination of factors in dataset could be the contributor.\n",
    "1. i.e if a certain set of conditions are met we can expect a certain severity accident.\n",
    "\n",
    "Based on above points **Decision Tree** model would be the first model that i would like to try out. \n",
    "\n",
    "## Reasons for choosing `Decision Tree` ?\n",
    "\n",
    "1. At each level decision tree tries to make decision on which `variable` should the split happen.\n",
    "1. On the basis of gini index / information gain it will split the node on that variable\n",
    "1. We can see that there is already some level of separation of multiple variables when we try to look it from severity (variable to predict) perspective.\n",
    "1. The predictions are explanable in nature.\n",
    "1. It could be a simple baseline model to begin with.\n",
    "1. It makes sense to use decision trees.\n",
    "\n",
    "\n",
    "\n",
    "## Further improvements of modelling\n",
    "\n",
    "1. We could use ensemble models using decision trees like Random Forest or XgBoost"
   ]
  }
 ],
 "metadata": {
  "kernelspec": {
   "display_name": "Python 3",
   "language": "python",
   "name": "python3"
  },
  "language_info": {
   "codemirror_mode": {
    "name": "ipython",
    "version": 3
   },
   "file_extension": ".py",
   "mimetype": "text/x-python",
   "name": "python",
   "nbconvert_exporter": "python",
   "pygments_lexer": "ipython3",
   "version": "3.8.5"
  }
 },
 "nbformat": 4,
 "nbformat_minor": 5
}
