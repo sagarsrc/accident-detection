{
 "cells": [
  {
   "cell_type": "markdown",
   "id": "03175d2e-f745-4c5e-815f-271e4f043ae8",
   "metadata": {},
   "source": [
    "# Aim\n",
    "\n",
    "1. To select features relevant for modelling"
   ]
  },
  {
   "cell_type": "code",
   "execution_count": 11,
   "id": "bb6ddc17-9671-421b-b8fb-2aec13ee1869",
   "metadata": {},
   "outputs": [],
   "source": [
    "import os\n",
    "\n",
    "import matplotlib.pyplot as plt\n",
    "import numpy as np\n",
    "import pandas as pd\n",
    "import seaborn as sns"
   ]
  },
  {
   "cell_type": "code",
   "execution_count": 1,
   "id": "ebd30085-e79a-498a-9533-2325f82f8c04",
   "metadata": {},
   "outputs": [],
   "source": [
    "import numpy as np\n",
    "import pandas as pd"
   ]
  },
  {
   "cell_type": "code",
   "execution_count": 2,
   "id": "363b8749-23bc-43f5-a6db-c7f8c76ae5ba",
   "metadata": {},
   "outputs": [],
   "source": [
    "DATA_ROOT = f\"../data\""
   ]
  },
  {
   "cell_type": "code",
   "execution_count": 3,
   "id": "8ba40e7e-8cb7-4f58-b4f5-2b4662f81370",
   "metadata": {},
   "outputs": [
    {
     "data": {
      "text/plain": [
       "Index(['ID', 'Source', 'TMC', 'Severity', 'Start_Time', 'End_Time',\n",
       "       'Start_Lat', 'Start_Lng', 'Distance(mi)', 'Description', 'Number',\n",
       "       'Street', 'Side', 'City', 'County', 'State', 'Zipcode', 'Country',\n",
       "       'Timezone', 'Airport_Code', 'Weather_Timestamp', 'Temperature(F)',\n",
       "       'Humidity(%)', 'Pressure(in)', 'Visibility(mi)', 'Wind_Direction',\n",
       "       'Wind_Speed(mph)', 'Weather_Condition', 'Amenity', 'Bump', 'Crossing',\n",
       "       'Give_Way', 'Junction', 'No_Exit', 'Railway', 'Roundabout', 'Station',\n",
       "       'Stop', 'Traffic_Calming', 'Traffic_Signal', 'Turning_Loop',\n",
       "       'Sunrise_Sunset', 'Civil_Twilight', 'Nautical_Twilight',\n",
       "       'Astronomical_Twilight'],\n",
       "      dtype='object')"
      ]
     },
     "execution_count": 3,
     "metadata": {},
     "output_type": "execute_result"
    }
   ],
   "source": [
    "df = pd.read_csv(f\"{DATA_ROOT}/eda/clean-data.csv\")\n",
    "df.columns"
   ]
  },
  {
   "cell_type": "markdown",
   "id": "3db3a03a-5280-4605-b6f8-e74198ecc219",
   "metadata": {},
   "source": [
    "# NOTE\n",
    "\n",
    "- For first iteration we do not need all the features. \n",
    "- Trying to keep the feature set simple.\n",
    "- Variables on which EDA was done will be used in modelling."
   ]
  },
  {
   "cell_type": "markdown",
   "id": "25322450-a51d-4cf7-98fe-e0023bb7e933",
   "metadata": {},
   "source": [
    "# Initial thoughts on Feature Selection\n",
    "\n",
    "1. Categorical variables might help in improving information gain, and better model Severity\n",
    "1. Hence keeping categorical variables\n",
    "---\n",
    "1. Traffic Attributes\n",
    "    - ID (will be removed before modelling), \n",
    "    - Source,\n",
    "    - TMC, \n",
    "    - start_time, end_time, (NOT using these to reduce complexity of problem)\n",
    "    - start_point, end_point, (NOT using these to reduce complexity of problem)\n",
    "    - distance (varying lengths of tails were observed for different severity in EDA might be a good feature),\n",
    "    - and description (interesting feature engineering could be done using text keeping this)\n",
    "    \n",
    "1. Address Attributes\n",
    "    - Number (street number in itself might be a noisy variable + it has 64% Nan values which were filled with -1 skipping this variable)\n",
    "    - Street (This is potential variable time take to featurise it is a bit high keeping it for future improvements), \n",
    "    - Side (left/right - this variable has distinct distributions for varying severity observed in EDA), \n",
    "    - City, County, State, (Keeping these categorical feature as it is),\n",
    "    - Country (as there is only one country this will be a noise variable to the model)\n",
    "    - Zipcode (these are hierarical in nature and can be good information to the model),\n",
    "\n",
    "1. Weather Attributes\n",
    "    - keeping all the weather attributes as these external factors might help us explain severity of accidents\n",
    "    - good amount of variance was seen across various weather attributes in EDA\n",
    "    - skipping these variables due to very high nan % \n",
    "        - Precipitation, Wind_Chill\n",
    "\n",
    "1. POI variables\n",
    "    - keeping all POI variables as varying distributions of these variables were observed in bivariate analysis\n",
    "    \n",
    "1. Period of Day variables\n",
    "    - keeping these variables\n",
    "    - Sunrise/Sunset, Civil Twilight, Nautical Twilight, and Astronomical Twilight\n",
    "\n",
    "1. Others\n",
    "    - Start_Lat, Start_Lng \n",
    "    - as we are not having End Lat Lng due to 70% nans in them\n",
    "    - as features like distance between 2 geo-coordinates cannot be calculated\n",
    "    - zipcode should make up for the information loss due to geo-coordinates\n",
    "    - this is a tradeoff that is being taken for this assignment\n",
    "\n",
    "---\n",
    "The above selection is totally based on observations in EDA.\n",
    "\n",
    "1. Better feature selection methods on the basis of feature importance could be employed.\n",
    "1. Doing a Backward or Forward feature selection will be a time consuming process.\n",
    "1. Hence keeping it for future scope\n",
    "    "
   ]
  },
  {
   "cell_type": "code",
   "execution_count": 39,
   "id": "35db58e6-d2ea-4354-b607-c84c687bbbec",
   "metadata": {},
   "outputs": [],
   "source": [
    "selected_features = [\n",
    "    \"ID\",  # will remove this in the end before modelling\n",
    "    \"Source\",\n",
    "    \"TMC\",\n",
    "    \"Start_Time\",  # keeping this to sort the dataframe before train test split\n",
    "    # \"End_Time\",\n",
    "    # \"Start_Lat\",\n",
    "    # \"Start_Lng\",\n",
    "    \"Distance(mi)\",\n",
    "    \"Description\",\n",
    "    # \"Number\",\n",
    "    # \"Street\",\n",
    "    \"Side\",\n",
    "    \"City\",\n",
    "    \"County\",\n",
    "    \"State\",\n",
    "    \"Zipcode\",\n",
    "    # \"Country\",\n",
    "    \"Timezone\",\n",
    "    \"Airport_Code\",\n",
    "    # \"Weather_Timestamp\",\n",
    "    \"Temperature(F)\",\n",
    "    \"Humidity(%)\",\n",
    "    \"Pressure(in)\",\n",
    "    \"Visibility(mi)\",\n",
    "    \"Wind_Direction\",\n",
    "    \"Wind_Speed(mph)\",\n",
    "    \"Weather_Condition\",\n",
    "    \"Amenity\",\n",
    "    \"Bump\",\n",
    "    \"Crossing\",\n",
    "    \"Give_Way\",\n",
    "    \"Junction\",\n",
    "    \"No_Exit\",\n",
    "    \"Railway\",\n",
    "    \"Roundabout\",\n",
    "    \"Station\",\n",
    "    \"Stop\",\n",
    "    \"Traffic_Calming\",\n",
    "    \"Traffic_Signal\",\n",
    "    \"Turning_Loop\",\n",
    "    \"Sunrise_Sunset\",\n",
    "    \"Civil_Twilight\",\n",
    "    \"Nautical_Twilight\",\n",
    "    \"Astronomical_Twilight\",\n",
    "    #\n",
    "    \"Severity\",\n",
    "]"
   ]
  },
  {
   "cell_type": "code",
   "execution_count": 37,
   "id": "2d482db2-f331-4d08-94cb-28884a3c3689",
   "metadata": {},
   "outputs": [],
   "source": [
    "os.makedirs(f\"{DATA_ROOT}/fselect/\")"
   ]
  },
  {
   "cell_type": "code",
   "execution_count": 40,
   "id": "b1f0f2a7-9e3f-4fbf-bc50-934c7cf68a71",
   "metadata": {},
   "outputs": [],
   "source": [
    "df[selected_features].to_pickle(f\"{DATA_ROOT}/fselect/accidents_raw.pkl\")"
   ]
  }
 ],
 "metadata": {
  "kernelspec": {
   "display_name": "Python 3",
   "language": "python",
   "name": "python3"
  },
  "language_info": {
   "codemirror_mode": {
    "name": "ipython",
    "version": 3
   },
   "file_extension": ".py",
   "mimetype": "text/x-python",
   "name": "python",
   "nbconvert_exporter": "python",
   "pygments_lexer": "ipython3",
   "version": "3.8.5"
  }
 },
 "nbformat": 4,
 "nbformat_minor": 5
}
