{
 "cells": [
  {
   "cell_type": "markdown",
   "id": "101c3ee0-6710-4cd1-9afe-075fd0b84a40",
   "metadata": {},
   "source": [
    "# Aim\n",
    "\n",
    "1. Make featurized data model ready\n",
    "1. flatten array features e.g kw_vec (keyword vectors)"
   ]
  },
  {
   "cell_type": "code",
   "execution_count": 1,
   "id": "29f11b88-6068-43b6-9d9d-8c950afa8967",
   "metadata": {},
   "outputs": [],
   "source": [
    "import os\n",
    "\n",
    "import numpy as np\n",
    "import pandas as pd"
   ]
  },
  {
   "cell_type": "code",
   "execution_count": 2,
   "id": "944ff2c0-6302-4b60-b8b4-100db3468f0e",
   "metadata": {},
   "outputs": [],
   "source": [
    "DATA_ROOT = f\"../data\""
   ]
  },
  {
   "cell_type": "code",
   "execution_count": 3,
   "id": "a506d7b9-e005-4ae4-b2d0-664f6359abbf",
   "metadata": {},
   "outputs": [],
   "source": [
    "df_train = pd.read_pickle(f\"{DATA_ROOT}/train/featurized/data.pkl\")\n",
    "df_test = pd.read_pickle(f\"{DATA_ROOT}/test/featurized/data.pkl\")"
   ]
  },
  {
   "cell_type": "code",
   "execution_count": 8,
   "id": "84029b76-3910-4ca5-9663-e6d8af59acf3",
   "metadata": {},
   "outputs": [
    {
     "data": {
      "text/plain": [
       "ID                                                           A-2478859\n",
       "Source                                                          [0, 1]\n",
       "TMC                                                                  0\n",
       "Distance(mi)                                                      3.23\n",
       "Side                                                            [0, 1]\n",
       "City                        [0, 0, 0, 0, 0, 0, 0, 0, 0, 0, 0, 0, 0, 1]\n",
       "County                               [0, 0, 0, 0, 0, 0, 0, 0, 0, 0, 1]\n",
       "State                                               [0, 0, 0, 0, 0, 1]\n",
       "Timezone                                                     [0, 0, 1]\n",
       "Airport_Code                         [0, 0, 0, 0, 0, 0, 0, 0, 0, 0, 1]\n",
       "Temperature(F)                                                    42.1\n",
       "Humidity(%)                                                         58\n",
       "Pressure(in)                                                     29.76\n",
       "Visibility(mi)                                                      10\n",
       "Wind_Direction                                         [0, 0, 0, 0, 1]\n",
       "Wind_Speed(mph)                                                   10.4\n",
       "Weather_Condition                                [0, 0, 0, 0, 0, 0, 1]\n",
       "Amenity                                                          False\n",
       "Bump                                                             False\n",
       "Crossing                                                         False\n",
       "Give_Way                                                         False\n",
       "Junction                                                         False\n",
       "No_Exit                                                          False\n",
       "Railway                                                          False\n",
       "Roundabout                                                       False\n",
       "Station                                                          False\n",
       "Stop                                                             False\n",
       "Traffic_Calming                                                  False\n",
       "Traffic_Signal                                                   False\n",
       "Turning_Loop                                                     False\n",
       "Sunrise_Sunset                                                  [0, 1]\n",
       "Civil_Twilight                                                  [0, 1]\n",
       "Nautical_Twilight                                               [0, 1]\n",
       "Astronomical_Twilight                                           [0, 1]\n",
       "kw_vec                   [1, 0, 0, 0, 0, 0, 0, 0, 0, 0, 1, 0, 0, 0, 0]\n",
       "zip_02                                                             [1]\n",
       "zip_25                                                             [1]\n",
       "zip_len                                                              5\n",
       "zip_is_compound                                                  False\n",
       "Severity                                                             3\n",
       "Name: 0, dtype: object"
      ]
     },
     "execution_count": 8,
     "metadata": {},
     "output_type": "execute_result"
    }
   ],
   "source": [
    "df_train.iloc[0]"
   ]
  },
  {
   "cell_type": "code",
   "execution_count": 13,
   "id": "a09c6998-27ae-4d07-9512-e18493de9ff1",
   "metadata": {},
   "outputs": [],
   "source": [
    "categorical_features_as_vector_columns = [\n",
    "    # transformed\n",
    "    \"Source\",\n",
    "    \"Side\",\n",
    "    \"City\",\n",
    "    \"County\",\n",
    "    \"State\",\n",
    "    \"Timezone\",\n",
    "    \"Airport_Code\",\n",
    "    \"Wind_Direction\",\n",
    "    \"Weather_Condition\",\n",
    "    \"Sunrise_Sunset\",\n",
    "    \"Civil_Twilight\",\n",
    "    \"Nautical_Twilight\",\n",
    "    \"Astronomical_Twilight\",\n",
    "    # engineered and transformed\n",
    "    \"kw_vec\",\n",
    "    \"zip_02\",\n",
    "    \"zip_25\",\n",
    "]"
   ]
  },
  {
   "cell_type": "code",
   "execution_count": 20,
   "id": "8706177f-f196-4a4b-b0f9-81c26c9024fc",
   "metadata": {},
   "outputs": [],
   "source": [
    "def prepare_vector_columns_for_model(df, vector_column):\n",
    "\n",
    "    if vector_column == \"kw_vec\":\n",
    "        kw_list = [\n",
    "            \"kw_\" + i[0] for i in pd.read_pickle(f\"{DATA_ROOT}/train/keywords.pkl\")[:15]\n",
    "        ]\n",
    "\n",
    "        df_vec = pd.DataFrame(df[vector_column].tolist(), columns=kw_list)\n",
    "\n",
    "    else:\n",
    "        cols = [f\"{vector_column}_{i}\" for i in range(len(df[vector_column].iloc[0]))]\n",
    "        df_vec = pd.DataFrame(df[vector_column].tolist(), columns=cols)\n",
    "\n",
    "    df_final = pd.concat([df_vec, df], axis=\"columns\").drop(columns=[vector_column])\n",
    "    return df_final\n",
    "\n",
    "\n",
    "for c in categorical_features_as_vector_columns:\n",
    "    df_train = prepare_vector_columns_for_model(df_train, vector_column=c)\n",
    "    df_test = prepare_vector_columns_for_model(df_test, vector_column=c)"
   ]
  },
  {
   "cell_type": "code",
   "execution_count": 24,
   "id": "efbc9b27-5f74-4e10-9db6-81d0710f8b17",
   "metadata": {},
   "outputs": [
    {
     "data": {
      "text/plain": [
       "['zip_25_0',\n",
       " 'zip_02_0',\n",
       " 'kw_Accident',\n",
       " 'kw_Northbound',\n",
       " 'kw_Hwy',\n",
       " 'kw_ramp',\n",
       " 'kw_slow',\n",
       " 'kw_Trl',\n",
       " 'kw_Mopac',\n",
       " 'kw_Okeechobee',\n",
       " 'kw_Brookshire',\n",
       " 'kw_Huntington',\n",
       " 'kw_NYS',\n",
       " 'kw_Fuqua',\n",
       " 'kw_Middlefield',\n",
       " 'kw_JFK',\n",
       " 'kw_Cedarhurst',\n",
       " 'Astronomical_Twilight_0',\n",
       " 'Astronomical_Twilight_1',\n",
       " 'Nautical_Twilight_0',\n",
       " 'Nautical_Twilight_1',\n",
       " 'Civil_Twilight_0',\n",
       " 'Civil_Twilight_1',\n",
       " 'Sunrise_Sunset_0',\n",
       " 'Sunrise_Sunset_1',\n",
       " 'Weather_Condition_0',\n",
       " 'Weather_Condition_1',\n",
       " 'Weather_Condition_2',\n",
       " 'Weather_Condition_3',\n",
       " 'Weather_Condition_4',\n",
       " 'Weather_Condition_5',\n",
       " 'Weather_Condition_6',\n",
       " 'Wind_Direction_0',\n",
       " 'Wind_Direction_1',\n",
       " 'Wind_Direction_2',\n",
       " 'Wind_Direction_3',\n",
       " 'Wind_Direction_4',\n",
       " 'Airport_Code_0',\n",
       " 'Airport_Code_1',\n",
       " 'Airport_Code_2',\n",
       " 'Airport_Code_3',\n",
       " 'Airport_Code_4',\n",
       " 'Airport_Code_5',\n",
       " 'Airport_Code_6',\n",
       " 'Airport_Code_7',\n",
       " 'Airport_Code_8',\n",
       " 'Airport_Code_9',\n",
       " 'Airport_Code_10',\n",
       " 'Timezone_0',\n",
       " 'Timezone_1',\n",
       " 'Timezone_2',\n",
       " 'State_0',\n",
       " 'State_1',\n",
       " 'State_2',\n",
       " 'State_3',\n",
       " 'State_4',\n",
       " 'State_5',\n",
       " 'County_0',\n",
       " 'County_1',\n",
       " 'County_2',\n",
       " 'County_3',\n",
       " 'County_4',\n",
       " 'County_5',\n",
       " 'County_6',\n",
       " 'County_7',\n",
       " 'County_8',\n",
       " 'County_9',\n",
       " 'County_10',\n",
       " 'City_0',\n",
       " 'City_1',\n",
       " 'City_2',\n",
       " 'City_3',\n",
       " 'City_4',\n",
       " 'City_5',\n",
       " 'City_6',\n",
       " 'City_7',\n",
       " 'City_8',\n",
       " 'City_9',\n",
       " 'City_10',\n",
       " 'City_11',\n",
       " 'City_12',\n",
       " 'City_13',\n",
       " 'Side_0',\n",
       " 'Side_1',\n",
       " 'Source_0',\n",
       " 'Source_1',\n",
       " 'ID',\n",
       " 'TMC',\n",
       " 'Distance(mi)',\n",
       " 'Temperature(F)',\n",
       " 'Humidity(%)',\n",
       " 'Pressure(in)',\n",
       " 'Visibility(mi)',\n",
       " 'Wind_Speed(mph)',\n",
       " 'Amenity',\n",
       " 'Bump',\n",
       " 'Crossing',\n",
       " 'Give_Way',\n",
       " 'Junction',\n",
       " 'No_Exit',\n",
       " 'Railway',\n",
       " 'Roundabout',\n",
       " 'Station',\n",
       " 'Stop',\n",
       " 'Traffic_Calming',\n",
       " 'Traffic_Signal',\n",
       " 'Turning_Loop',\n",
       " 'zip_len',\n",
       " 'zip_is_compound',\n",
       " 'Severity']"
      ]
     },
     "execution_count": 24,
     "metadata": {},
     "output_type": "execute_result"
    }
   ],
   "source": [
    "df_train.columns.tolist()"
   ]
  },
  {
   "cell_type": "code",
   "execution_count": 25,
   "id": "830eaccd-2d7a-4570-b02f-19afec061911",
   "metadata": {},
   "outputs": [],
   "source": [
    "df_train.drop(columns=[\"ID\"], inplace=True, errors=\"ignore\")\n",
    "df_test.drop(columns=[\"ID\"], inplace=True, errors=\"ignore\")"
   ]
  },
  {
   "cell_type": "markdown",
   "id": "404d576f-920f-4943-a378-37e9e28f2178",
   "metadata": {},
   "source": [
    "As we are preparing data for tree based models, there is no need to scale/ standardize the data."
   ]
  },
  {
   "cell_type": "code",
   "execution_count": 26,
   "id": "7c3bae9b-e780-4f92-b37c-87b6da2a83b6",
   "metadata": {},
   "outputs": [],
   "source": [
    "os.makedirs(f\"{DATA_ROOT}/train/model/\", exist_ok=True)\n",
    "os.makedirs(f\"{DATA_ROOT}/test/model/\", exist_ok=True)"
   ]
  },
  {
   "cell_type": "code",
   "execution_count": 30,
   "id": "fbdb1d10-bc39-4b69-99d6-e9bd2858d630",
   "metadata": {},
   "outputs": [
    {
     "data": {
      "text/plain": [
       "0"
      ]
     },
     "execution_count": 30,
     "metadata": {},
     "output_type": "execute_result"
    }
   ],
   "source": [
    "df_train.isna().any().sum()  # check nans any"
   ]
  },
  {
   "cell_type": "code",
   "execution_count": 31,
   "id": "ea95a35e-d431-4c35-b4f5-36acf5dfc9a4",
   "metadata": {},
   "outputs": [
    {
     "data": {
      "text/plain": [
       "0"
      ]
     },
     "execution_count": 31,
     "metadata": {},
     "output_type": "execute_result"
    }
   ],
   "source": [
    "df_test.isna().any().sum()  # check nans any"
   ]
  },
  {
   "cell_type": "code",
   "execution_count": 28,
   "id": "21ea610b-0e7d-4f4b-b0af-af1d8e17a2bb",
   "metadata": {},
   "outputs": [],
   "source": [
    "df_train.to_pickle(f\"{DATA_ROOT}/train/model/data.pkl\")\n",
    "df_test.to_pickle(f\"{DATA_ROOT}/test/model/data.pkl\")"
   ]
  }
 ],
 "metadata": {
  "kernelspec": {
   "display_name": "Python 3",
   "language": "python",
   "name": "python3"
  },
  "language_info": {
   "codemirror_mode": {
    "name": "ipython",
    "version": 3
   },
   "file_extension": ".py",
   "mimetype": "text/x-python",
   "name": "python",
   "nbconvert_exporter": "python",
   "pygments_lexer": "ipython3",
   "version": "3.8.5"
  }
 },
 "nbformat": 4,
 "nbformat_minor": 5
}
