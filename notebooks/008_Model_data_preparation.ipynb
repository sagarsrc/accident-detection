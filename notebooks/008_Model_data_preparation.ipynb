{
 "cells": [
  {
   "cell_type": "markdown",
   "id": "101c3ee0-6710-4cd1-9afe-075fd0b84a40",
   "metadata": {},
   "source": [
    "# Aim\n",
    "\n",
    "1. Make featurized data model ready\n",
    "1. flatten array features e.g kw_vec (keyword vectors)"
   ]
  },
  {
   "cell_type": "code",
   "execution_count": 1,
   "id": "29f11b88-6068-43b6-9d9d-8c950afa8967",
   "metadata": {},
   "outputs": [],
   "source": [
    "import os\n",
    "\n",
    "import numpy as np\n",
    "import pandas as pd"
   ]
  },
  {
   "cell_type": "code",
   "execution_count": 2,
   "id": "944ff2c0-6302-4b60-b8b4-100db3468f0e",
   "metadata": {},
   "outputs": [],
   "source": [
    "DATA_ROOT = f\"../data\""
   ]
  },
  {
   "cell_type": "code",
   "execution_count": 30,
   "id": "b6b3436d-82cf-4733-bf63-7b7c03c3cb5c",
   "metadata": {},
   "outputs": [],
   "source": [
    "df_train = pd.read_pickle(f\"{DATA_ROOT}/train/featurized/data.pkl\")"
   ]
  },
  {
   "cell_type": "code",
   "execution_count": 3,
   "id": "c04bdcc5-8795-457d-8842-0f583db3fc57",
   "metadata": {},
   "outputs": [],
   "source": [
    "df_test = pd.read_pickle(f\"{DATA_ROOT}/test/featurized/data.pkl\")"
   ]
  },
  {
   "cell_type": "code",
   "execution_count": 31,
   "id": "8706177f-f196-4a4b-b0f9-81c26c9024fc",
   "metadata": {},
   "outputs": [],
   "source": [
    "def prepare_model_data(df):\n",
    "\n",
    "    kw_list = [\n",
    "        \"kw_\" + i[0] for i in pd.read_pickle(f\"{DATA_ROOT}/train/keywords.pkl\")[:15]\n",
    "    ]\n",
    "\n",
    "    df_kw = pd.DataFrame(df[\"kw_vec\"].tolist(), columns=kw_list)\n",
    "    df_final = pd.concat([df_kw, df], axis=\"columns\").drop(columns=[\"ID\", \"kw_vec\"])\n",
    "    return df_final\n",
    "\n",
    "\n",
    "df_model_train = prepare_model_data(df_train)\n",
    "df_model_test = prepare_model_data(df_test)"
   ]
  },
  {
   "cell_type": "markdown",
   "id": "404d576f-920f-4943-a378-37e9e28f2178",
   "metadata": {},
   "source": [
    "As we are preparing data for tree based models, there is no need to scale/ standardize the data."
   ]
  },
  {
   "cell_type": "code",
   "execution_count": 32,
   "id": "93d8f727-aa9d-4eeb-a2b7-7c1b3a2f9c4d",
   "metadata": {},
   "outputs": [],
   "source": [
    "ordered_feature_list = [\n",
    "    # engineered features\n",
    "    \"kw_Accident\",\n",
    "    \"kw_Northbound\",\n",
    "    \"kw_Hwy\",\n",
    "    \"kw_ramp\",\n",
    "    \"kw_slow\",\n",
    "    \"kw_Trl\",\n",
    "    \"kw_Mopac\",\n",
    "    \"kw_Okeechobee\",\n",
    "    \"kw_Brookshire\",\n",
    "    \"kw_Huntington\",\n",
    "    \"kw_NYS\",\n",
    "    \"kw_Fuqua\",\n",
    "    \"kw_Middlefield\",\n",
    "    \"kw_JFK\",\n",
    "    \"kw_Cedarhurst\",\n",
    "    \"zip_02\",\n",
    "    \"zip_25\",\n",
    "    \"zip_len\",\n",
    "    \"zip_is_compound\",\n",
    "    # raw features\n",
    "    \"Source\",\n",
    "    \"TMC\",\n",
    "    \"Distance(mi)\",\n",
    "    \"Side\",\n",
    "    \"City\",\n",
    "    \"County\",\n",
    "    \"State\",\n",
    "    \"Timezone\",\n",
    "    \"Airport_Code\",\n",
    "    \"Temperature(F)\",\n",
    "    \"Humidity(%)\",\n",
    "    \"Pressure(in)\",\n",
    "    \"Visibility(mi)\",\n",
    "    \"Wind_Direction\",\n",
    "    \"Wind_Speed(mph)\",\n",
    "    \"Weather_Condition\",\n",
    "    \"Amenity\",\n",
    "    \"Bump\",\n",
    "    \"Crossing\",\n",
    "    \"Give_Way\",\n",
    "    \"Junction\",\n",
    "    \"No_Exit\",\n",
    "    \"Railway\",\n",
    "    \"Roundabout\",\n",
    "    \"Station\",\n",
    "    \"Stop\",\n",
    "    \"Traffic_Calming\",\n",
    "    \"Traffic_Signal\",\n",
    "    \"Turning_Loop\",\n",
    "    \"Sunrise_Sunset\",\n",
    "    \"Civil_Twilight\",\n",
    "    \"Nautical_Twilight\",\n",
    "    \"Astronomical_Twilight\",\n",
    "    # predict\n",
    "    \"Severity\",\n",
    "]"
   ]
  },
  {
   "cell_type": "code",
   "execution_count": 34,
   "id": "7c3bae9b-e780-4f92-b37c-87b6da2a83b6",
   "metadata": {},
   "outputs": [],
   "source": [
    "os.makedirs(f\"{DATA_ROOT}/train/model/\", exist_ok=True)\n",
    "os.makedirs(f\"{DATA_ROOT}/test/model/\", exist_ok=True)"
   ]
  },
  {
   "cell_type": "code",
   "execution_count": 37,
   "id": "21ea610b-0e7d-4f4b-b0af-af1d8e17a2bb",
   "metadata": {},
   "outputs": [],
   "source": [
    "df_model_train[ordered_feature_list].to_pickle(f\"{DATA_ROOT}/train/model/data.pkl\")\n",
    "df_model_test[ordered_feature_list].to_pickle(f\"{DATA_ROOT}/test/model/data.pkl\")"
   ]
  }
 ],
 "metadata": {
  "kernelspec": {
   "display_name": "Python 3",
   "language": "python",
   "name": "python3"
  },
  "language_info": {
   "codemirror_mode": {
    "name": "ipython",
    "version": 3
   },
   "file_extension": ".py",
   "mimetype": "text/x-python",
   "name": "python",
   "nbconvert_exporter": "python",
   "pygments_lexer": "ipython3",
   "version": "3.8.5"
  }
 },
 "nbformat": 4,
 "nbformat_minor": 5
}
