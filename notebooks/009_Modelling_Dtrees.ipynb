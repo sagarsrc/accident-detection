{
 "cells": [
  {
   "cell_type": "markdown",
   "id": "fbb5e952-8803-486e-b9c6-7761ad1d868c",
   "metadata": {},
   "source": [
    "# Aim\n",
    "\n",
    "1. train a decision tree model"
   ]
  },
  {
   "cell_type": "code",
   "execution_count": 53,
   "id": "e03220ba-716d-4613-843f-511120e763f4",
   "metadata": {},
   "outputs": [],
   "source": [
    "import os\n",
    "\n",
    "import matplotlib.pyplot as plt\n",
    "import numpy as np\n",
    "import pandas as pd\n",
    "import seaborn as sns\n",
    "from sklearn import tree"
   ]
  },
  {
   "cell_type": "code",
   "execution_count": 2,
   "id": "04bf9c10-7e09-4c6d-b94f-bca202463031",
   "metadata": {},
   "outputs": [],
   "source": [
    "DATA_ROOT = f\"../data\""
   ]
  },
  {
   "cell_type": "code",
   "execution_count": 3,
   "id": "ba5d9179-60af-4b04-9f6a-9012562973c5",
   "metadata": {},
   "outputs": [],
   "source": [
    "df_train = pd.read_pickle(f\"{DATA_ROOT}/train/model/data.pkl\")\n",
    "df_test = pd.read_pickle(f\"{DATA_ROOT}/test/model/data.pkl\")"
   ]
  },
  {
   "cell_type": "markdown",
   "id": "330e0335-32f6-4cb2-9b21-630bbc6626b7",
   "metadata": {},
   "source": [
    "# Class weight\n",
    "\n",
    "1. each class has a different number of occurences\n",
    "1. adding class weight will handle imabalances in the labels distributions\n"
   ]
  },
  {
   "cell_type": "code",
   "execution_count": 12,
   "id": "f271ea00-6aeb-4869-b8eb-a265a4812743",
   "metadata": {},
   "outputs": [],
   "source": [
    "from sklearn.utils.class_weight import compute_class_weight\n",
    "\n",
    "\"\"\"\n",
    "for \"balanced\" \n",
    "w = n_samples / (n_classes * np.bincount(y))\n",
    "\"\"\"\n",
    "\n",
    "classes = [1, 2, 3, 4]\n",
    "w = compute_class_weight(\"balanced\", classes=classes, y=df_train[\"Severity\"],)\n",
    "class_weights = {i: j for i, j in zip(classes, w)}\n",
    "\n",
    "# get value counts\n",
    "value_counts = df_train[\"Severity\"].value_counts().to_dict()"
   ]
  },
  {
   "cell_type": "code",
   "execution_count": 31,
   "id": "61188cd7-1c28-4306-b5e3-8281405959d5",
   "metadata": {},
   "outputs": [
    {
     "name": "stdout",
     "output_type": "stream",
     "text": [
      "value_counts of labels in train set:\n",
      "{1: 969, 2: 1993515, 3: 887615, 4: 92331}\n",
      "\n",
      "weights of labels:\n",
      "{1: 767.3968008255933, 2: 0.37301324544836634, 3: 0.8377590509398782, 4: 8.053714353792333}\n"
     ]
    }
   ],
   "source": [
    "print(\"value_counts of labels in train set:\")\n",
    "print(dict(sorted(value_counts.items(), key=lambda x: x[0])))\n",
    "\n",
    "print(\"\\nweights of labels:\")\n",
    "print(dict(sorted(class_weights.items(), key=lambda x: x[0])))"
   ]
  },
  {
   "cell_type": "code",
   "execution_count": 44,
   "id": "ba87577d-f77b-4b41-8701-d6716bd617c1",
   "metadata": {},
   "outputs": [],
   "source": [
    "from sklearn import tree\n",
    "\n",
    "X = df_train.iloc[:, :-1]\n",
    "Y = df_train[\"Severity\"]\n",
    "clf = tree.DecisionTreeClassifier(max_depth=10, class_weight=class_weights)\n",
    "clf = clf.fit(X, Y)"
   ]
  },
  {
   "cell_type": "code",
   "execution_count": 45,
   "id": "e64a9f6d-b97a-4f23-bdc5-237c8d7f94df",
   "metadata": {},
   "outputs": [],
   "source": [
    "y_pred_train = clf.predict(df_train.iloc[:, :-1])"
   ]
  },
  {
   "cell_type": "code",
   "execution_count": 46,
   "id": "15c8e31b-530f-4e0c-85f0-2080b80f8eb0",
   "metadata": {},
   "outputs": [],
   "source": [
    "y_train = df_train[\"Severity\"].values\n",
    "y_test = df_test[\"Severity\"].values"
   ]
  },
  {
   "cell_type": "code",
   "execution_count": 47,
   "id": "3d6cae97-95bd-4240-ab84-01e713ddfe87",
   "metadata": {},
   "outputs": [],
   "source": [
    "from sklearn.metrics import confusion_matrix"
   ]
  },
  {
   "cell_type": "code",
   "execution_count": 48,
   "id": "d07aff10-26cd-4b62-8f94-2db2d69a5dc8",
   "metadata": {},
   "outputs": [
    {
     "data": {
      "text/plain": [
       "array([[    969,       0,       0,       0],\n",
       "       [      0, 1993515,       0,       0],\n",
       "       [      0,       0,  887615,       0],\n",
       "       [      0,       0,       0,   92331]])"
      ]
     },
     "execution_count": 48,
     "metadata": {},
     "output_type": "execute_result"
    }
   ],
   "source": [
    "confusion_matrix(y_train, y_train)"
   ]
  },
  {
   "cell_type": "code",
   "execution_count": 49,
   "id": "bf43468f-007b-44da-8c4f-f33fabb2b104",
   "metadata": {},
   "outputs": [
    {
     "data": {
      "text/plain": [
       "array([[   771,     75,    123,      0],\n",
       "       [509445, 815954, 390386, 277730],\n",
       "       [112266,  35021, 636170, 104158],\n",
       "       [   208,   2459,   2675,  86989]])"
      ]
     },
     "execution_count": 49,
     "metadata": {},
     "output_type": "execute_result"
    }
   ],
   "source": [
    "confusion_matrix(y_train, y_pred_train)"
   ]
  },
  {
   "cell_type": "code",
   "execution_count": 50,
   "id": "a6096e13-f761-41ac-a2af-bc464aad23e2",
   "metadata": {},
   "outputs": [],
   "source": [
    "y_pred_test = clf.predict(df_test.iloc[:, :-1])"
   ]
  },
  {
   "cell_type": "code",
   "execution_count": 51,
   "id": "0867f344-8dbd-4d5d-9568-b7c462d8b0ef",
   "metadata": {},
   "outputs": [
    {
     "data": {
      "text/plain": [
       "array([[ 28205,      0,      0,      0],\n",
       "       [     0, 379695,      0,      0],\n",
       "       [     0,      0, 111298,      0],\n",
       "       [     0,      0,      0,  19989]])"
      ]
     },
     "execution_count": 51,
     "metadata": {},
     "output_type": "execute_result"
    }
   ],
   "source": [
    "confusion_matrix(y_test, y_test)"
   ]
  },
  {
   "cell_type": "code",
   "execution_count": 52,
   "id": "c299c708-3205-484c-ace8-779564aa1172",
   "metadata": {},
   "outputs": [
    {
     "data": {
      "text/plain": [
       "array([[    33,  12833,    454,  14885],\n",
       "       [ 47072, 221620,  53751,  57252],\n",
       "       [  7350,  17922,  58280,  27746],\n",
       "       [    92,   2543,   1275,  16079]])"
      ]
     },
     "execution_count": 52,
     "metadata": {},
     "output_type": "execute_result"
    }
   ],
   "source": [
    "confusion_matrix(y_test, y_pred_test)"
   ]
  },
  {
   "cell_type": "code",
   "execution_count": 68,
   "id": "a6152a2b-0638-4654-9e93-db2b843e68a0",
   "metadata": {},
   "outputs": [],
   "source": [
    "fn = df_train.columns.tolist()[:-1]\n",
    "cn = [str(i) for i in [1, 2, 3, 4]]"
   ]
  },
  {
   "cell_type": "code",
   "execution_count": 73,
   "id": "ecd1d677-2e23-4c99-8292-acadf0d2cebc",
   "metadata": {},
   "outputs": [],
   "source": [
    "from dtreeviz.trees import *"
   ]
  },
  {
   "cell_type": "raw",
   "id": "dd00d010-4982-4974-9884-c8f6b3bdc7af",
   "metadata": {},
   "source": [
    "viz = dtreeviz(\n",
    "    clf,\n",
    "    x_data=df_train.iloc[:, :-1],\n",
    "    y_data=df_train[\"Severity\"],\n",
    "    target_name=\"Severity\",\n",
    "    feature_names=fn,\n",
    "    class_names=cn,\n",
    "    title=\"Decision Tree - accidents\",\n",
    ")\n",
    "viz"
   ]
  },
  {
   "cell_type": "code",
   "execution_count": 90,
   "id": "a88a1c1d-f59d-43da-ade9-2996fb99daf8",
   "metadata": {},
   "outputs": [
    {
     "name": "stdout",
     "output_type": "stream",
     "text": [
      "[4]\n",
      "kw_ramp < 0.5\n",
      "Astronomical_Twilight_1 < 0.5\n",
      "Timezone_1 < 0.5\n",
      "0.5 <= Timezone_2 \n",
      "County_1 < 0.5\n",
      "Side_0 < 0.5\n",
      "TMC < 100.0\n",
      "0.0 <= Distance(mi)  < 1.07\n",
      "zip_len < 7.5\n",
      "\n"
     ]
    }
   ],
   "source": [
    "ix = 4\n",
    "# display(df_train.iloc[ix, :-1])\n",
    "print(clf.predict([df_train.iloc[ix, :-1]]),)\n",
    "\n",
    "print(\n",
    "    explain_prediction_path(\n",
    "        clf,\n",
    "        df_train.iloc[ix, :-1],\n",
    "        feature_names=fn,\n",
    "        class_names=cn,\n",
    "        explanation_type=\"plain_english\",\n",
    "    ),\n",
    ")"
   ]
  }
 ],
 "metadata": {
  "kernelspec": {
   "display_name": "Python 3",
   "language": "python",
   "name": "python3"
  },
  "language_info": {
   "codemirror_mode": {
    "name": "ipython",
    "version": 3
   },
   "file_extension": ".py",
   "mimetype": "text/x-python",
   "name": "python",
   "nbconvert_exporter": "python",
   "pygments_lexer": "ipython3",
   "version": "3.8.5"
  }
 },
 "nbformat": 4,
 "nbformat_minor": 5
}
