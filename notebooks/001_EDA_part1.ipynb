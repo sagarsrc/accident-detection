{
 "cells": [
  {
   "cell_type": "markdown",
   "id": "aaf8dc62-aba6-4fb0-a185-84ec5b506297",
   "metadata": {},
   "source": [
    "# EDA"
   ]
  },
  {
   "cell_type": "code",
   "execution_count": 1,
   "id": "fe9b4793-968f-400f-8aa0-78a02d4fdb56",
   "metadata": {},
   "outputs": [],
   "source": [
    "import os\n",
    "\n",
    "import matplotlib.pyplot as plt\n",
    "import numpy as np\n",
    "import pandas as pd\n",
    "import seaborn as sns"
   ]
  },
  {
   "cell_type": "code",
   "execution_count": 2,
   "id": "dacdcffc-12c2-4e3a-bbc8-22c202bd2cbb",
   "metadata": {},
   "outputs": [],
   "source": [
    "DATA_ROOT = \"../data/\""
   ]
  },
  {
   "cell_type": "markdown",
   "id": "405bc311-0ff1-4716-9072-a0dacaf37c54",
   "metadata": {},
   "source": [
    "## metadata\n",
    "\n",
    "Sr. No.|Attribute|Description\n",
    "-|-|-|\n",
    "1|ID|This is a unique identifier of the accident record.\n",
    "2|Source|Indicates source of the accident report (i.e. the API which reported the accident.).\n",
    "3|TMC|A traffic accident may have a Traffic Message Channel (TMC) code which provides more detailed description of the event.\n",
    "4|Severity|Shows the severity of the accident, a number between 1 and 4, where 1 indicates the least impact on traffic (i.e., short delay as a result of the accident) and 4 indicates a significant impact on traffic (i.e., long delay).\n",
    "5|Start_Time|Shows start time of the accident in local time zone.\n",
    "6|End_Time|Shows end time of the accident in local time zone. End time here refers to when the impact of accident on traffic flow was dismissed.\n",
    "7|Start_Lat|Shows latitude in GPS coordinate of the start point.\n",
    "8|Start_Lng|Shows longitude in GPS coordinate of the start point.\n",
    "9|End_Lat|Shows latitude in GPS coordinate of the end point.\n",
    "10|End_Lng|Shows longitude in GPS coordinate of the end point.\n",
    "11|Distance(mi)|The length of the road extent affected by the accident.\n",
    "12|Description|Shows natural language description of the accident.\n",
    "13|Number|Shows the street number in address field.\n",
    "14|Street|Shows the street name in address field.\n",
    "15|Side|Shows the relative side of the street (Right/Left) in address field.\n",
    "16|City|Shows the city in address field.\n",
    "17|County|Shows the county in address field.\n",
    "18|State|Shows the state in address field.\n",
    "19|Zipcode|Shows the zipcode in address field.\n",
    "20|Country|Shows the country in address field.\n",
    "21|Timezone|Shows timezone based on the location of the accident (eastern, central, etc.).\n",
    "22|Airport_Code|Denotes an airport-based weather station which is the closest one to location of the accident.\n",
    "23|Weather_Timestamp|Shows the time-stamp of weather observation record (in local time).\n",
    "24|Temperature(F)|Shows the temperature (in Fahrenheit).\n",
    "25|Wind_Chill(F)|Shows the wind chill (in Fahrenheit).\n",
    "26|Humidity(%)|Shows the humidity (in percentage).\n",
    "27|Pressure(in)|Shows the air pressure (in inches).\n",
    "28|Visibility(mi)|Shows visibility (in miles).\n",
    "29|Wind_Direction|Shows wind direction.\n",
    "30|Wind_Speed(mph)|Shows wind speed (in miles per hour).\n",
    "31|Precipitation(in)|Shows precipitation amount in inches, if there is any.\n",
    "32|Weather_Condition|Shows the weather condition (rain, snow, thunderstorm, fog, etc.)\n",
    "33|Amenity|A POI annotation which indicates presence of amenity in a nearby location.\n",
    "34|Bump|A POI annotation which indicates presence of speed bump or hump in a nearby location.\n",
    "35|Crossing|A POI annotation which indicates presence of crossing in a nearby location.\n",
    "36|Give_Way|A POI annotation which indicates presence of give_way in a nearby location.\n",
    "37|Junction|A POI annotation which indicates presence of junction in a nearby location.\n",
    "38|No_Exit|A POI annotation which indicates presence of no_exit in a nearby location.\n",
    "39|Railway|A POI annotation which indicates presence of railway in a nearby location.\n",
    "40|Roundabout|A POI annotation which indicates presence of roundabout in a nearby location.\n",
    "41|Station|A POI annotation which indicates presence of station in a nearby location.\n",
    "42|Stop|A POI annotation which indicates presence of stop in a nearby location.\n",
    "43|Traffic_Calming|A POI annotation which indicates presence of traffic_calming in a nearby location.\n",
    "44|Traffic_Signal|A POI annotation which indicates presence of traffic_signal in a nearby location.\n",
    "45|Turning_Loop|A POI annotation which indicates presence of turning_loop in a nearby location.\n",
    "46|Sunrise_Sunset|Shows the period of day (i.e. day or night) based on sunrise/sunset.\n",
    "47|Civil_Twilight|Shows the period of day (i.e. day or night) based on civil twilight.\n",
    "48|Nautical_Twilight|Shows the period of day (i.e. day or night) based on nautical twilight.\n",
    "49|Astronomical_Twilight|Shows the period of day (i.e. day or night) based on astronomical twilight."
   ]
  },
  {
   "cell_type": "markdown",
   "id": "a021a170-e13e-42ac-9e94-80d7f6a607c2",
   "metadata": {},
   "source": [
    "---"
   ]
  },
  {
   "cell_type": "code",
   "execution_count": 3,
   "id": "a24f0348-497a-4b1e-8d93-a839c584ba72",
   "metadata": {},
   "outputs": [],
   "source": [
    "df = pd.read_csv(f\"{DATA_ROOT}/raw/accidents.csv\")"
   ]
  },
  {
   "cell_type": "code",
   "execution_count": 4,
   "id": "8c7a726c-f8d2-4688-9925-819d1e6b0bb5",
   "metadata": {},
   "outputs": [
    {
     "data": {
      "text/html": [
       "<div>\n",
       "<style scoped>\n",
       "    .dataframe tbody tr th:only-of-type {\n",
       "        vertical-align: middle;\n",
       "    }\n",
       "\n",
       "    .dataframe tbody tr th {\n",
       "        vertical-align: top;\n",
       "    }\n",
       "\n",
       "    .dataframe thead th {\n",
       "        text-align: right;\n",
       "    }\n",
       "</style>\n",
       "<table border=\"1\" class=\"dataframe\">\n",
       "  <thead>\n",
       "    <tr style=\"text-align: right;\">\n",
       "      <th></th>\n",
       "      <th>ID</th>\n",
       "      <th>Source</th>\n",
       "      <th>TMC</th>\n",
       "      <th>Severity</th>\n",
       "      <th>Start_Time</th>\n",
       "      <th>End_Time</th>\n",
       "      <th>Start_Lat</th>\n",
       "      <th>Start_Lng</th>\n",
       "      <th>End_Lat</th>\n",
       "      <th>End_Lng</th>\n",
       "      <th>...</th>\n",
       "      <th>Roundabout</th>\n",
       "      <th>Station</th>\n",
       "      <th>Stop</th>\n",
       "      <th>Traffic_Calming</th>\n",
       "      <th>Traffic_Signal</th>\n",
       "      <th>Turning_Loop</th>\n",
       "      <th>Sunrise_Sunset</th>\n",
       "      <th>Civil_Twilight</th>\n",
       "      <th>Nautical_Twilight</th>\n",
       "      <th>Astronomical_Twilight</th>\n",
       "    </tr>\n",
       "  </thead>\n",
       "  <tbody>\n",
       "    <tr>\n",
       "      <th>0</th>\n",
       "      <td>A-1</td>\n",
       "      <td>MapQuest</td>\n",
       "      <td>201.0</td>\n",
       "      <td>3</td>\n",
       "      <td>2016-02-08 05:46:00</td>\n",
       "      <td>2016-02-08 11:00:00</td>\n",
       "      <td>39.865147</td>\n",
       "      <td>-84.058723</td>\n",
       "      <td>NaN</td>\n",
       "      <td>NaN</td>\n",
       "      <td>...</td>\n",
       "      <td>False</td>\n",
       "      <td>False</td>\n",
       "      <td>False</td>\n",
       "      <td>False</td>\n",
       "      <td>False</td>\n",
       "      <td>False</td>\n",
       "      <td>Night</td>\n",
       "      <td>Night</td>\n",
       "      <td>Night</td>\n",
       "      <td>Night</td>\n",
       "    </tr>\n",
       "    <tr>\n",
       "      <th>1</th>\n",
       "      <td>A-2</td>\n",
       "      <td>MapQuest</td>\n",
       "      <td>201.0</td>\n",
       "      <td>2</td>\n",
       "      <td>2016-02-08 06:07:59</td>\n",
       "      <td>2016-02-08 06:37:59</td>\n",
       "      <td>39.928059</td>\n",
       "      <td>-82.831184</td>\n",
       "      <td>NaN</td>\n",
       "      <td>NaN</td>\n",
       "      <td>...</td>\n",
       "      <td>False</td>\n",
       "      <td>False</td>\n",
       "      <td>False</td>\n",
       "      <td>False</td>\n",
       "      <td>False</td>\n",
       "      <td>False</td>\n",
       "      <td>Night</td>\n",
       "      <td>Night</td>\n",
       "      <td>Night</td>\n",
       "      <td>Day</td>\n",
       "    </tr>\n",
       "    <tr>\n",
       "      <th>2</th>\n",
       "      <td>A-3</td>\n",
       "      <td>MapQuest</td>\n",
       "      <td>201.0</td>\n",
       "      <td>2</td>\n",
       "      <td>2016-02-08 06:49:27</td>\n",
       "      <td>2016-02-08 07:19:27</td>\n",
       "      <td>39.063148</td>\n",
       "      <td>-84.032608</td>\n",
       "      <td>NaN</td>\n",
       "      <td>NaN</td>\n",
       "      <td>...</td>\n",
       "      <td>False</td>\n",
       "      <td>False</td>\n",
       "      <td>False</td>\n",
       "      <td>False</td>\n",
       "      <td>True</td>\n",
       "      <td>False</td>\n",
       "      <td>Night</td>\n",
       "      <td>Night</td>\n",
       "      <td>Day</td>\n",
       "      <td>Day</td>\n",
       "    </tr>\n",
       "    <tr>\n",
       "      <th>3</th>\n",
       "      <td>A-4</td>\n",
       "      <td>MapQuest</td>\n",
       "      <td>201.0</td>\n",
       "      <td>3</td>\n",
       "      <td>2016-02-08 07:23:34</td>\n",
       "      <td>2016-02-08 07:53:34</td>\n",
       "      <td>39.747753</td>\n",
       "      <td>-84.205582</td>\n",
       "      <td>NaN</td>\n",
       "      <td>NaN</td>\n",
       "      <td>...</td>\n",
       "      <td>False</td>\n",
       "      <td>False</td>\n",
       "      <td>False</td>\n",
       "      <td>False</td>\n",
       "      <td>False</td>\n",
       "      <td>False</td>\n",
       "      <td>Night</td>\n",
       "      <td>Day</td>\n",
       "      <td>Day</td>\n",
       "      <td>Day</td>\n",
       "    </tr>\n",
       "    <tr>\n",
       "      <th>4</th>\n",
       "      <td>A-5</td>\n",
       "      <td>MapQuest</td>\n",
       "      <td>201.0</td>\n",
       "      <td>2</td>\n",
       "      <td>2016-02-08 07:39:07</td>\n",
       "      <td>2016-02-08 08:09:07</td>\n",
       "      <td>39.627781</td>\n",
       "      <td>-84.188354</td>\n",
       "      <td>NaN</td>\n",
       "      <td>NaN</td>\n",
       "      <td>...</td>\n",
       "      <td>False</td>\n",
       "      <td>False</td>\n",
       "      <td>False</td>\n",
       "      <td>False</td>\n",
       "      <td>True</td>\n",
       "      <td>False</td>\n",
       "      <td>Day</td>\n",
       "      <td>Day</td>\n",
       "      <td>Day</td>\n",
       "      <td>Day</td>\n",
       "    </tr>\n",
       "  </tbody>\n",
       "</table>\n",
       "<p>5 rows × 49 columns</p>\n",
       "</div>"
      ],
      "text/plain": [
       "    ID    Source    TMC  Severity           Start_Time             End_Time  \\\n",
       "0  A-1  MapQuest  201.0         3  2016-02-08 05:46:00  2016-02-08 11:00:00   \n",
       "1  A-2  MapQuest  201.0         2  2016-02-08 06:07:59  2016-02-08 06:37:59   \n",
       "2  A-3  MapQuest  201.0         2  2016-02-08 06:49:27  2016-02-08 07:19:27   \n",
       "3  A-4  MapQuest  201.0         3  2016-02-08 07:23:34  2016-02-08 07:53:34   \n",
       "4  A-5  MapQuest  201.0         2  2016-02-08 07:39:07  2016-02-08 08:09:07   \n",
       "\n",
       "   Start_Lat  Start_Lng  End_Lat  End_Lng  ...  Roundabout Station   Stop  \\\n",
       "0  39.865147 -84.058723      NaN      NaN  ...       False   False  False   \n",
       "1  39.928059 -82.831184      NaN      NaN  ...       False   False  False   \n",
       "2  39.063148 -84.032608      NaN      NaN  ...       False   False  False   \n",
       "3  39.747753 -84.205582      NaN      NaN  ...       False   False  False   \n",
       "4  39.627781 -84.188354      NaN      NaN  ...       False   False  False   \n",
       "\n",
       "  Traffic_Calming Traffic_Signal Turning_Loop Sunrise_Sunset Civil_Twilight  \\\n",
       "0           False          False        False          Night          Night   \n",
       "1           False          False        False          Night          Night   \n",
       "2           False           True        False          Night          Night   \n",
       "3           False          False        False          Night            Day   \n",
       "4           False           True        False            Day            Day   \n",
       "\n",
       "  Nautical_Twilight Astronomical_Twilight  \n",
       "0             Night                 Night  \n",
       "1             Night                   Day  \n",
       "2               Day                   Day  \n",
       "3               Day                   Day  \n",
       "4               Day                   Day  \n",
       "\n",
       "[5 rows x 49 columns]"
      ]
     },
     "execution_count": 4,
     "metadata": {},
     "output_type": "execute_result"
    }
   ],
   "source": [
    "df.head()"
   ]
  },
  {
   "cell_type": "code",
   "execution_count": 5,
   "id": "05cf82cb-13c4-41ee-88c4-17c4c7393ff4",
   "metadata": {},
   "outputs": [
    {
     "data": {
      "text/plain": [
       "Index(['ID', 'Source', 'TMC', 'Severity', 'Start_Time', 'End_Time',\n",
       "       'Start_Lat', 'Start_Lng', 'End_Lat', 'End_Lng', 'Distance(mi)',\n",
       "       'Description', 'Number', 'Street', 'Side', 'City', 'County', 'State',\n",
       "       'Zipcode', 'Country', 'Timezone', 'Airport_Code', 'Weather_Timestamp',\n",
       "       'Temperature(F)', 'Wind_Chill(F)', 'Humidity(%)', 'Pressure(in)',\n",
       "       'Visibility(mi)', 'Wind_Direction', 'Wind_Speed(mph)',\n",
       "       'Precipitation(in)', 'Weather_Condition', 'Amenity', 'Bump', 'Crossing',\n",
       "       'Give_Way', 'Junction', 'No_Exit', 'Railway', 'Roundabout', 'Station',\n",
       "       'Stop', 'Traffic_Calming', 'Traffic_Signal', 'Turning_Loop',\n",
       "       'Sunrise_Sunset', 'Civil_Twilight', 'Nautical_Twilight',\n",
       "       'Astronomical_Twilight'],\n",
       "      dtype='object')"
      ]
     },
     "execution_count": 5,
     "metadata": {},
     "output_type": "execute_result"
    }
   ],
   "source": [
    "df.columns"
   ]
  },
  {
   "cell_type": "markdown",
   "id": "f5d74c1e-5c0b-4c75-b5f2-14840e1ba45e",
   "metadata": {},
   "source": [
    "# Check Nans"
   ]
  },
  {
   "cell_type": "markdown",
   "id": "ed97110b-86b5-49e8-a33e-62ad8cc3a3bf",
   "metadata": {},
   "source": [
    "## check which columns have nans"
   ]
  },
  {
   "cell_type": "code",
   "execution_count": 6,
   "id": "3b4bbb53-b5e0-4fc2-864e-a24e3bee038d",
   "metadata": {},
   "outputs": [
    {
     "data": {
      "text/plain": [
       "ID                       False\n",
       "Source                   False\n",
       "TMC                       True\n",
       "Severity                 False\n",
       "Start_Time               False\n",
       "End_Time                 False\n",
       "Start_Lat                False\n",
       "Start_Lng                False\n",
       "End_Lat                   True\n",
       "End_Lng                   True\n",
       "Distance(mi)             False\n",
       "Description               True\n",
       "Number                    True\n",
       "Street                   False\n",
       "Side                     False\n",
       "City                      True\n",
       "County                   False\n",
       "State                    False\n",
       "Zipcode                   True\n",
       "Country                  False\n",
       "Timezone                  True\n",
       "Airport_Code              True\n",
       "Weather_Timestamp         True\n",
       "Temperature(F)            True\n",
       "Wind_Chill(F)             True\n",
       "Humidity(%)               True\n",
       "Pressure(in)              True\n",
       "Visibility(mi)            True\n",
       "Wind_Direction            True\n",
       "Wind_Speed(mph)           True\n",
       "Precipitation(in)         True\n",
       "Weather_Condition         True\n",
       "Amenity                  False\n",
       "Bump                     False\n",
       "Crossing                 False\n",
       "Give_Way                 False\n",
       "Junction                 False\n",
       "No_Exit                  False\n",
       "Railway                  False\n",
       "Roundabout               False\n",
       "Station                  False\n",
       "Stop                     False\n",
       "Traffic_Calming          False\n",
       "Traffic_Signal           False\n",
       "Turning_Loop             False\n",
       "Sunrise_Sunset            True\n",
       "Civil_Twilight            True\n",
       "Nautical_Twilight         True\n",
       "Astronomical_Twilight     True\n",
       "dtype: bool"
      ]
     },
     "execution_count": 6,
     "metadata": {},
     "output_type": "execute_result"
    }
   ],
   "source": [
    "nan_cols_series = df.isna().any()\n",
    "nan_cols_series"
   ]
  },
  {
   "cell_type": "code",
   "execution_count": 7,
   "id": "947a07f3-50c5-4846-9fb8-dba7235a4699",
   "metadata": {},
   "outputs": [
    {
     "data": {
      "text/plain": [
       "TMC                      True\n",
       "End_Lat                  True\n",
       "End_Lng                  True\n",
       "Description              True\n",
       "Number                   True\n",
       "City                     True\n",
       "Zipcode                  True\n",
       "Timezone                 True\n",
       "Airport_Code             True\n",
       "Weather_Timestamp        True\n",
       "Temperature(F)           True\n",
       "Wind_Chill(F)            True\n",
       "Humidity(%)              True\n",
       "Pressure(in)             True\n",
       "Visibility(mi)           True\n",
       "Wind_Direction           True\n",
       "Wind_Speed(mph)          True\n",
       "Precipitation(in)        True\n",
       "Weather_Condition        True\n",
       "Sunrise_Sunset           True\n",
       "Civil_Twilight           True\n",
       "Nautical_Twilight        True\n",
       "Astronomical_Twilight    True\n",
       "dtype: bool"
      ]
     },
     "execution_count": 7,
     "metadata": {},
     "output_type": "execute_result"
    }
   ],
   "source": [
    "nan_cols_series[nan_cols_series]"
   ]
  },
  {
   "cell_type": "markdown",
   "id": "9298270a-5759-4e03-8601-30b3b98a5201",
   "metadata": {},
   "source": [
    "## Handling missing values\n",
    "\n",
    "### Handling missing numerical values\n",
    "\n",
    "1. Mean Imputation\n",
    "2. Median Imputation\n",
    "3. Mode Imputation\n",
    "4. Remove NaNs\n",
    "5. model based imputation\n",
    "\n",
    "### Handling missing categorical values\n",
    "\n",
    "1. Mode imputation\n",
    "    1. replace with most occuring category\n",
    "    2. `note` data set should not be highly skewed\n",
    "    3. this type of strategy will make data highly imbalanced if nan count is very high\n",
    "2. Median imputation\n",
    "3. Threshold based imputation\n",
    "    1. distribute categories based on distribution of categories across the data\n",
    "    2. so that distribution of categories is not changed\n",
    "    3. i.e weighted sampling from categories \n",
    "4. Model based imputation\n",
    "    1. training a classifier by dropping rows of column which has missing values\n",
    "        1. and predicting on the rows that are dropped"
   ]
  },
  {
   "cell_type": "markdown",
   "id": "7712f439-3147-4efe-8e61-33ed7cd8956d",
   "metadata": {},
   "source": [
    "`NOTE` :\n",
    "\n",
    "As this is a time bound task will take some tradeoffs with best possible method to handle nans"
   ]
  },
  {
   "cell_type": "code",
   "execution_count": 8,
   "id": "6dc2fa26-0556-4c75-94e4-cbb273f19e21",
   "metadata": {},
   "outputs": [],
   "source": [
    "nan_cols = nan_cols_series[nan_cols_series].index.values.tolist()"
   ]
  },
  {
   "cell_type": "code",
   "execution_count": 9,
   "id": "30f6eeba-9a88-4043-839f-b367ac17b404",
   "metadata": {},
   "outputs": [],
   "source": [
    "# get nan percentage\n",
    "\n",
    "percent_missing = df[nan_cols].isnull().sum() * 100 / len(df)"
   ]
  },
  {
   "cell_type": "code",
   "execution_count": 10,
   "id": "a2c2c0ad-79f2-487e-be9b-1282989a2afa",
   "metadata": {},
   "outputs": [
    {
     "data": {
      "text/plain": [
       "End_Lat                  70.548896\n",
       "End_Lng                  70.548896\n",
       "Number                   64.402694\n",
       "Precipitation(in)        57.657793\n",
       "Wind_Chill(F)            53.171675\n",
       "TMC                      29.451104\n",
       "Wind_Speed(mph)          12.938490\n",
       "Weather_Condition         2.166941\n",
       "Visibility(mi)            2.158915\n",
       "Humidity(%)               1.983341\n",
       "Temperature(F)            1.870779\n",
       "Wind_Direction            1.675595\n",
       "Pressure(in)              1.590441\n",
       "Weather_Timestamp         1.233003\n",
       "Airport_Code              0.192337\n",
       "Timezone                  0.110428\n",
       "Zipcode                   0.030424\n",
       "Nautical_Twilight         0.003273\n",
       "Sunrise_Sunset            0.003273\n",
       "Civil_Twilight            0.003273\n",
       "Astronomical_Twilight     0.003273\n",
       "City                      0.003188\n",
       "Description               0.000028\n",
       "dtype: float64"
      ]
     },
     "execution_count": 10,
     "metadata": {},
     "output_type": "execute_result"
    }
   ],
   "source": [
    "percent_missing.sort_values(ascending=False)"
   ]
  },
  {
   "cell_type": "markdown",
   "id": "bf0aadee-eafc-4fa9-b04d-cfacb1afd574",
   "metadata": {},
   "source": [
    "## initial thoughts on missing data\n",
    "\n",
    "1. ```plain_text\n",
    "End_Lat                  70.548896\n",
    "End_Lng                  70.548896\n",
    "```\n",
    "    - almost 70% of the data is missing\n",
    "    - imputing/ handling this column will not add any value\n",
    "    - skipping these columns from further analysis/ modelling\n",
    "    \n",
    "1. ```plain_text\n",
    "Number                   64.402694\n",
    "```\n",
    "    - Number (i.e street number) alone does not convey any meaning\n",
    "    - Occurence of street number with another descriptor variables like street name, city etc will add more value\n",
    "    - skipping number from further analysis\n",
    "    - filling with `-1` for identifying missing street number\n",
    "\n",
    "1. ```plain_text\n",
    "Precipitation(in)        57.657793\n",
    "Wind_Chill(F)            53.171675\n",
    "```\n",
    "    - imputing weather data would include interfacing open source apis\n",
    "    - this would be an extensive task\n",
    "    - for each city/ state these variables would have different distribution\n",
    "        - need to check distribution by grouping these variables\n",
    "        - then impute\n",
    "\n",
    "1. ```plain_text\n",
    "TMC                      29.451104\n",
    "```\n",
    "    - we can treat nans as a different category here and make the analysis\n",
    "    - fillna with `0.0` will work here as missing percentage is not very high\n",
    "\n",
    "1. ```plain_text\n",
    "Wind_Speed(mph)          12.938490\n",
    "```\n",
    "    - we can impute values here using methods mentioned in above section for numerical values\n",
    "    - we need to check distribution of data here before we impute\n",
    "\n",
    "1. ```plain_text\n",
    "Weather_Condition         2.166941\n",
    "Visibility(mi)            2.158915\n",
    "Humidity(%)               1.983341\n",
    "Temperature(F)            1.870779\n",
    "Wind_Direction            1.675595\n",
    "Pressure(in)              1.590441\n",
    "Weather_Timestamp         1.233003\n",
    "Airport_Code              0.192337\n",
    "Timezone                  0.110428\n",
    "Zipcode                   0.030424\n",
    "Nautical_Twilight         0.003273\n",
    "Sunrise_Sunset            0.003273\n",
    "Civil_Twilight            0.003273\n",
    "Astronomical_Twilight     0.003273\n",
    "City                      0.003188\n",
    "Description               0.000028\n",
    "```\n",
    "    - rest of the values are too small for given scale \n",
    "    - and can be easily imputed using simple methods like mean fill / median fill\n",
    "    - this will vary from numerical and categorical variables accordingly"
   ]
  },
  {
   "cell_type": "markdown",
   "id": "21d98374-ece9-48f2-a882-d8db1e30582f",
   "metadata": {},
   "source": [
    "### `Number`, `TMC`"
   ]
  },
  {
   "cell_type": "code",
   "execution_count": 11,
   "id": "c240d322-1213-457d-a716-7ae033733a22",
   "metadata": {},
   "outputs": [],
   "source": [
    "df[\"Number\"] = df[\"Number\"].fillna(-1)\n",
    "df[\"TMC\"] = df[\"TMC\"].fillna(0.0)"
   ]
  },
  {
   "cell_type": "markdown",
   "id": "a26b91aa-45bb-48b0-b317-bd51e3622627",
   "metadata": {},
   "source": [
    "1. As Number has significant % of nans in order to make data consistent adding `-1` as street number\n",
    "1. As TMC has significant % of nans filling nans with a category `0.0`"
   ]
  },
  {
   "cell_type": "markdown",
   "id": "28413c8d-39ca-47ec-9538-0019d51064ed",
   "metadata": {},
   "source": [
    "### `Wind_Speed(mph)`"
   ]
  },
  {
   "cell_type": "code",
   "execution_count": 12,
   "id": "65c8dae9-4d2e-4ba6-a2f2-25b2fe33de11",
   "metadata": {},
   "outputs": [
    {
     "data": {
      "image/png": "[encoded data removed]",
      "text/plain": [
       "<Figure size 504x432 with 1 Axes>"
      ]
     },
     "metadata": {
      "needs_background": "light"
     },
     "output_type": "display_data"
    }
   ],
   "source": [
    "plt.figure(figsize=[7, 6])\n",
    "plt.title(\"Box plot of Wind_Speed(mph)\")\n",
    "plt.boxplot(\n",
    "    df[\"Wind_Speed(mph)\"].dropna().values, showmeans=True,\n",
    ")\n",
    "plt.show()"
   ]
  },
  {
   "cell_type": "markdown",
   "id": "2258c1be-ae98-4962-bbb9-31dcdb6a0868",
   "metadata": {},
   "source": [
    "1. Wind_Speed(mph) is skewed data, imputing with median\n",
    "1. as Wind_Speed(mph) nan % is around 13% imputing with mode would have added to the skew"
   ]
  },
  {
   "cell_type": "code",
   "execution_count": 13,
   "id": "eeba8705-4e0f-4e2e-96cd-3e068becf5f7",
   "metadata": {},
   "outputs": [
    {
     "data": {
      "text/plain": [
       "7.0"
      ]
     },
     "execution_count": 13,
     "metadata": {},
     "output_type": "execute_result"
    }
   ],
   "source": [
    "df[\"Wind_Speed(mph)\"].median()"
   ]
  },
  {
   "cell_type": "code",
   "execution_count": 14,
   "id": "a627eaa2-450c-49bf-884c-383d3cd016a9",
   "metadata": {},
   "outputs": [],
   "source": [
    "df[\"Wind_Speed(mph)\"] = df[\"Wind_Speed(mph)\"].fillna(df[\"Wind_Speed(mph)\"].median())"
   ]
  },
  {
   "cell_type": "markdown",
   "id": "a6b87998-4b69-433e-a019-0d14d5d755ca",
   "metadata": {},
   "source": [
    "### `Weather_Condition`"
   ]
  },
  {
   "cell_type": "code",
   "execution_count": 15,
   "id": "88fda0ab-2359-4032-b11c-1a410c4faae6",
   "metadata": {},
   "outputs": [
    {
     "data": {
      "image/png": "[encoded data removed]",
      "text/plain": [
       "<Figure size 720x504 with 1 Axes>"
      ]
     },
     "metadata": {
      "needs_background": "light"
     },
     "output_type": "display_data"
    }
   ],
   "source": [
    "plt.figure(figsize=[10, 7])\n",
    "plt.title(\"Value counts of Weather_Condition\")\n",
    "weather_cond_counts = (\n",
    "    df[\"Weather_Condition\"].value_counts().head(15).reset_index().values\n",
    ")\n",
    "plt.barh(\n",
    "    weather_cond_counts[:, 0], weather_cond_counts[:, 1],\n",
    ")\n",
    "plt.show()"
   ]
  },
  {
   "cell_type": "markdown",
   "id": "febc6d7c-87f8-4a8b-84c5-bce7ee3cde33",
   "metadata": {},
   "source": [
    "1. there is high skew in categorical data \n",
    "1. but Weather_Condition nans are around 2%\n",
    "1. we can randomly sample from top 10-15 values and impute"
   ]
  },
  {
   "cell_type": "code",
   "execution_count": 16,
   "id": "d1c1a73e-61b5-41a6-b54b-cc090da45140",
   "metadata": {},
   "outputs": [
    {
     "data": {
      "text/plain": [
       "array([['Clear', 808202],\n",
       "       ['Fair', 547721],\n",
       "       ['Mostly Cloudy', 488094],\n",
       "       ['Overcast', 382485],\n",
       "       ['Partly Cloudy', 344815],\n",
       "       ['Cloudy', 212878],\n",
       "       ['Scattered Clouds', 204660],\n",
       "       ['Light Rain', 176942],\n",
       "       ['Light Snow', 50435],\n",
       "       ['Rain', 42016]], dtype=object)"
      ]
     },
     "execution_count": 16,
     "metadata": {},
     "output_type": "execute_result"
    }
   ],
   "source": [
    "weather_cond_counts[:10]"
   ]
  },
  {
   "cell_type": "code",
   "execution_count": 17,
   "id": "2b20fde2-af93-4a37-a82b-1e5a8b9077a9",
   "metadata": {},
   "outputs": [],
   "source": [
    "import random\n",
    "\n",
    "list_of_candidates = weather_cond_counts[:10, 0]\n",
    "number_of_items_to_pick = df[\"Weather_Condition\"].isna().sum()\n",
    "probability_distribution = (\n",
    "    weather_cond_counts[:10, 1] / weather_cond_counts[:10, 1].sum()\n",
    ")\n",
    "draw = random.choices(\n",
    "    list_of_candidates, k=number_of_items_to_pick, weights=probability_distribution\n",
    ")"
   ]
  },
  {
   "cell_type": "code",
   "execution_count": 18,
   "id": "910503b9-64c1-4d38-a869-0ae68106ed70",
   "metadata": {},
   "outputs": [],
   "source": [
    "# fill nan values with random sample with weighted probabilities\n",
    "df.loc[df[\"Weather_Condition\"].isnull(), \"Weather_Condition\"] = draw"
   ]
  },
  {
   "cell_type": "markdown",
   "id": "dd0223ef-c04c-49fb-b9a4-8895d826e233",
   "metadata": {},
   "source": [
    "### `Visibility(mi)`, `Humidity(%)`, `Temperature(F)`, `Pressure(in)`"
   ]
  },
  {
   "cell_type": "code",
   "execution_count": 19,
   "id": "6798930d-127e-4b77-80d7-c37ca3259026",
   "metadata": {},
   "outputs": [],
   "source": [
    "df[\"Visibility(mi)\"].fillna(df[\"Visibility(mi)\"].mean(), inplace=True)\n",
    "df[\"Humidity(%)\"].fillna(df[\"Humidity(%)\"].mean(), inplace=True)\n",
    "df[\"Temperature(F)\"].fillna(df[\"Temperature(F)\"].mean(), inplace=True)\n",
    "df[\"Visibility(mi)\"].fillna(df[\"Visibility(mi)\"].mean(), inplace=True)\n",
    "df[\"Pressure(in)\"].fillna(df[\"Pressure(in)\"].mean(), inplace=True)"
   ]
  },
  {
   "cell_type": "markdown",
   "id": "8a13418b-1a22-474c-8c49-cd6c3c9c2fef",
   "metadata": {},
   "source": [
    "1. each of above columns have very less nan % ≈ 1.5% imputing with mean"
   ]
  },
  {
   "cell_type": "markdown",
   "id": "9eec5511-2bc6-45d1-82e6-05d6ff9d0210",
   "metadata": {},
   "source": [
    "### ` Wind_Direction `"
   ]
  },
  {
   "cell_type": "code",
   "execution_count": 20,
   "id": "49d35662-42a0-4ccb-865a-75f0623bbc97",
   "metadata": {},
   "outputs": [],
   "source": [
    "df[\"Wind_Direction\"] = df[\"Wind_Direction\"].fillna(\"none\")"
   ]
  },
  {
   "cell_type": "markdown",
   "id": "e89fb947-3777-4988-9ecc-dd69dedb783f",
   "metadata": {},
   "source": [
    "1. very less nan % ≈ around 1.5%\n",
    "1. treating nan as `none` category"
   ]
  },
  {
   "cell_type": "markdown",
   "id": "5222a390-3624-4d5c-907c-0e577b0f4b68",
   "metadata": {},
   "source": [
    "### `Weather_Timestamp`"
   ]
  },
  {
   "cell_type": "code",
   "execution_count": 21,
   "id": "a1cdc66b-1114-4abe-9ad5-a86df932f43a",
   "metadata": {},
   "outputs": [
    {
     "data": {
      "text/plain": [
       "count    3470294\n",
       "mean           0\n",
       "std            0\n",
       "min           -1\n",
       "25%           -1\n",
       "50%            0\n",
       "75%            0\n",
       "max            0\n",
       "dtype: int64"
      ]
     },
     "execution_count": 21,
     "metadata": {},
     "output_type": "execute_result"
    }
   ],
   "source": [
    "# number of days' gap between Start_Time and Weather_Timestamp\n",
    "(\n",
    "    pd.to_datetime(df[\"Start_Time\"]) - pd.to_datetime(df[\"Weather_Timestamp\"])\n",
    ").dt.days.describe().astype(int)"
   ]
  },
  {
   "cell_type": "code",
   "execution_count": 22,
   "id": "8f1884a2-605f-455f-9f22-2c5f86b66052",
   "metadata": {},
   "outputs": [],
   "source": [
    "# number of hours' gap between Start_Time and Weather_Timestamp\n",
    "t = (\n",
    "    pd.to_datetime(df[\"Start_Time\"]) - pd.to_datetime(df[\"Weather_Timestamp\"])\n",
    ").dt.total_seconds()"
   ]
  },
  {
   "cell_type": "code",
   "execution_count": 23,
   "id": "490bec92-2535-453c-97ee-9ced38560740",
   "metadata": {},
   "outputs": [
    {
     "data": {
      "text/plain": [
       "count    3.470294e+06\n",
       "mean    -5.289606e-01\n",
       "std      3.434439e+01\n",
       "min     -1.430283e+03\n",
       "25%     -1.131667e+01\n",
       "50%      6.666667e-02\n",
       "75%      1.138333e+01\n",
       "max      1.381000e+03\n",
       "dtype: float64"
      ]
     },
     "execution_count": 23,
     "metadata": {},
     "output_type": "execute_result"
    }
   ],
   "source": [
    "(t / 60).describe()"
   ]
  },
  {
   "cell_type": "markdown",
   "id": "80dcf8d7-62bd-488f-96ee-83436c190824",
   "metadata": {},
   "source": [
    "1. making assumption that all variables will be available during inference time\n",
    "1. Closest estimate of Weather_Timestamp would be Start_Time based on the data above\n",
    "    1. as more than data 50% of data has 0 days difference\n",
    "    1. more than 50% of data has Weather_Timestamp 6 hours(or less) earlier to Start_Time"
   ]
  },
  {
   "cell_type": "code",
   "execution_count": 24,
   "id": "bb42a4de-6d55-42ae-ab27-7f33e02dadc3",
   "metadata": {},
   "outputs": [],
   "source": [
    "df[\"Weather_Timestamp\"] = df[\"Weather_Timestamp\"].fillna(df[\"Start_Time\"])"
   ]
  },
  {
   "cell_type": "markdown",
   "id": "7a667108-3a12-4e43-b76d-8cb2f24ff650",
   "metadata": {},
   "source": [
    "### `Others`"
   ]
  },
  {
   "cell_type": "code",
   "execution_count": 25,
   "id": "cc8a6805-8a06-4730-a857-51a03ad04487",
   "metadata": {},
   "outputs": [],
   "source": [
    "df[\"Airport_Code\"] = df[\"Airport_Code\"].fillna(df[\"Airport_Code\"].mode().values[0])\n",
    "df[\"Timezone\"] = df[\"Timezone\"].fillna(df[\"Timezone\"].mode().values[0])\n",
    "df[\"Nautical_Twilight\"] = df[\"Nautical_Twilight\"].fillna(\n",
    "    df[\"Nautical_Twilight\"].mode().values[0]\n",
    ")\n",
    "df[\"Sunrise_Sunset\"] = df[\"Sunrise_Sunset\"].fillna(\n",
    "    df[\"Sunrise_Sunset\"].mode().values[0]\n",
    ")\n",
    "df[\"Civil_Twilight\"] = df[\"Civil_Twilight\"].fillna(\n",
    "    df[\"Civil_Twilight\"].mode().values[0]\n",
    ")\n",
    "df[\"Astronomical_Twilight\"] = df[\"Astronomical_Twilight\"].fillna(\n",
    "    df[\"Astronomical_Twilight\"].mode().values[0]\n",
    ")\n",
    "df[\"City\"] = df[\"City\"].fillna(df[\"City\"].mode().values[0])\n",
    "df[\"Description\"] = df[\"Description\"].fillna(\"empty\")\n",
    "\n",
    "df[\"Zipcode\"] = df[\"Zipcode\"].fillna(df[\"Zipcode\"].mode().values[0])"
   ]
  },
  {
   "cell_type": "markdown",
   "id": "61fb7770-0ed6-421c-aac7-11b8b4f180ad",
   "metadata": {},
   "source": [
    "# Recheck missing values"
   ]
  },
  {
   "cell_type": "code",
   "execution_count": 28,
   "id": "7d55bb8c-91d2-42d5-9740-0a1f54d37ca9",
   "metadata": {},
   "outputs": [
    {
     "data": {
      "text/plain": [
       "End_Lat              True\n",
       "End_Lng              True\n",
       "Wind_Chill(F)        True\n",
       "Precipitation(in)    True\n",
       "dtype: bool"
      ]
     },
     "execution_count": 28,
     "metadata": {},
     "output_type": "execute_result"
    }
   ],
   "source": [
    "recheck_nans_series = df.isna().any()\n",
    "recheck_nans_series[recheck_nans_series]"
   ]
  },
  {
   "cell_type": "code",
   "execution_count": 36,
   "id": "70aafd3e-f4ba-4c0e-8844-0e45f169e664",
   "metadata": {},
   "outputs": [
    {
     "data": {
      "text/plain": [
       "['End_Lat', 'End_Lng', 'Wind_Chill(F)', 'Precipitation(in)']"
      ]
     },
     "execution_count": 36,
     "metadata": {},
     "output_type": "execute_result"
    }
   ],
   "source": [
    "rm_cols = recheck_nans_series[recheck_nans_series].index.tolist()\n",
    "rm_cols"
   ]
  },
  {
   "cell_type": "markdown",
   "id": "271eac90-ed23-4318-a08d-983e2ec0be25",
   "metadata": {},
   "source": [
    "+ ignoring the above columns as nan % is very high\n",
    "+ time required to impute these values would be high"
   ]
  },
  {
   "cell_type": "markdown",
   "id": "993ad150-59ab-4ef6-b827-d87f3194425e",
   "metadata": {},
   "source": [
    "# Save cleaned data to csv"
   ]
  },
  {
   "cell_type": "code",
   "execution_count": 33,
   "id": "268953f8-9223-4b12-aff8-cdb13a8ca395",
   "metadata": {},
   "outputs": [],
   "source": [
    "dir_path = f\"{DATA_ROOT}/eda/\"\n",
    "os.makedirs(dir_path, exist_ok=True)"
   ]
  },
  {
   "cell_type": "code",
   "execution_count": 39,
   "id": "4faf0423-eb97-4d5f-b4f3-ea7298f9166f",
   "metadata": {},
   "outputs": [],
   "source": [
    "cols = df.columns.tolist()\n",
    "for i in rm_cols:\n",
    "    cols.remove(i)"
   ]
  },
  {
   "cell_type": "code",
   "execution_count": 41,
   "id": "c125c2d1-b1b1-4c42-9232-0d4f66096ac6",
   "metadata": {},
   "outputs": [],
   "source": [
    "file_path = f\"{dir_path}/clean-data.csv\"\n",
    "df.to_csv(file_path, index=False, columns=cols)"
   ]
  }
 ],
 "metadata": {
  "kernelspec": {
   "display_name": "Python 3",
   "language": "python",
   "name": "python3"
  },
  "language_info": {
   "codemirror_mode": {
    "name": "ipython",
    "version": 3
   },
   "file_extension": ".py",
   "mimetype": "text/x-python",
   "name": "python",
   "nbconvert_exporter": "python",
   "pygments_lexer": "ipython3",
   "version": "3.8.5"
  }
 },
 "nbformat": 4,
 "nbformat_minor": 5
}
